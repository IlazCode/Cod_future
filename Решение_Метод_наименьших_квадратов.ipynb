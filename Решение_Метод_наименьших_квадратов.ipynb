{
  "nbformat": 4,
  "nbformat_minor": 0,
  "metadata": {
    "colab": {
      "provenance": [],
      "toc_visible": true,
      "authorship_tag": "ABX9TyMnfD+PMMxZrlUBfLvoiBlN",
      "include_colab_link": true
    },
    "kernelspec": {
      "name": "python3",
      "display_name": "Python 3"
    },
    "language_info": {
      "name": "python"
    }
  },
  "cells": [
    {
      "cell_type": "markdown",
      "metadata": {
        "id": "view-in-github",
        "colab_type": "text"
      },
      "source": [
        "<a href=\"https://colab.research.google.com/github/vn322/Cod_future/blob/main/%D0%A0%D0%B5%D1%88%D0%B5%D0%BD%D0%B8%D0%B5_%D0%9C%D0%B5%D1%82%D0%BE%D0%B4_%D0%BD%D0%B0%D0%B8%D0%BC%D0%B5%D0%BD%D1%8C%D1%88%D0%B8%D1%85_%D0%BA%D0%B2%D0%B0%D0%B4%D1%80%D0%B0%D1%82%D0%BE%D0%B2.ipynb\" target=\"_parent\"><img src=\"https://colab.research.google.com/assets/colab-badge.svg\" alt=\"Open In Colab\"/></a>"
      ]
    },
    {
      "cell_type": "markdown",
      "source": [
        "# Подготовка данных"
      ],
      "metadata": {
        "id": "qqSHd9jVM6qA"
      }
    },
    {
      "cell_type": "markdown",
      "source": [
        "Метод наименьших квадратов один из методов регрессионного анализа (изучения влияния независимых переменных на целевую с использованием статистических методов) который позволяет найти неизвестные параметры регрессионной модели по имеющимся для анализа данным. Упрощая можно сказать, что метод позволяет найти ту линию (прямую или кривую) которая лучшим образом описыват имеющийся набор данных (на которую наши данные похожи больше всего).\n",
        "\n",
        "\n",
        "Следует сразу отметито, что статистическая зависимость не означает автоматически наличие причинно-следственных отношений.\n",
        "\n"
      ],
      "metadata": {
        "id": "_l6EPPQgAgX4"
      }
    },
    {
      "cell_type": "markdown",
      "source": [
        "Сформируем набор данных для исследования и для этого выберем несколько игроков с разным уровнем развития определённого качества (Level) и соотнесём его с количеством убитых монстров за первые пять минут игры (Frags)\n",
        "\n",
        "\n",
        "\n",
        "Level|1|2|3|4|5|\n",
        "--|--|--|--|--|--|\n",
        "Frags|3| 6| 5| 7| 10\n",
        "\n",
        "\n",
        "Как можно видеть разному уровню навыка соответствует различное количество монстров. Давайте посмотрим как это выглядит на простом точечном графике."
      ],
      "metadata": {
        "id": "IEtdHZEJ4Z7B"
      }
    },
    {
      "cell_type": "markdown",
      "source": [
        "![image.png](data:image/png;base64,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)"
      ],
      "metadata": {
        "id": "e9kpL0eY8IA7"
      }
    },
    {
      "cell_type": "markdown",
      "source": [
        "Просто точки дают нам мало понимания о закономерности этого соотношения, поэтому попробуем соединитить их непрерывной линией и обратим внимание, что мы можем изобразить такую кривую, расстояние до которой от каждой из наших точек будет минимальным."
      ],
      "metadata": {
        "id": "3qs9aRN5DD-d"
      }
    },
    {
      "cell_type": "markdown",
      "source": [
        "![image.png](data:image/png;base64,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)"
      ],
      "metadata": {
        "id": "ccpXmjtZ8vh3"
      }
    },
    {
      "cell_type": "markdown",
      "source": [
        "Как можно убедиться, действительно возможно подобрать линию, которая описывает наш набор данных. Однако, мы не можем сказать, что именно эта линия справляется с задачей лучше других и поэтому нам надо научиться получать формулу, которая позволит свести отклонения точки данных от линии к минимуму."
      ],
      "metadata": {
        "id": "NKECZWWNMlIX"
      }
    },
    {
      "cell_type": "markdown",
      "source": [
        "![image.png](data:image/png;base64,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)"
      ],
      "metadata": {
        "id": "cHAfe0ZQMTMu"
      }
    },
    {
      "cell_type": "markdown",
      "source": [
        "# Вычисление формулы описывающей набор данных"
      ],
      "metadata": {
        "id": "ZYflp-oJM5ma"
      }
    },
    {
      "cell_type": "markdown",
      "source": [
        "Мы можем сделать предположение, что для функции $y = f(x)$ , которая наилучшим образом приближает эмпирические (опытные) данные хорошо подойдёт прямая, а формула прямой нам хорошо известна $f(x) = ax+b$\n",
        "\n",
        "Для того чтобы выбрать метрику оценивающую качество нашего приближения кривой к данным (апроксимации) мы заметим, что отклонения от линии $y - f(x)$ могут быть как положительными, так и отрицательными и если мы попробуем посчитать их сумму, то они могут компенсировать друг друга. Чтобы избежать этого, нужно оставить только значения отклонений и избавиться от знака. \n",
        "\n",
        "Для этого можно применять различные средства и методы, мы же используем возведение в квадрат, что даст нам возможность найти минимальное значение этих ошибок решив систему уравнений. Итак ошибка $e = y-f(x)$ должна быть вычислена для каждой точки данных и возведена в квадрат $$\\sum_{i=1}^n e^2= \\sum_{i=1}^n (y_i - f(x_i))^2 = \\sum_{i=1}^n (y_i - (ax_i+b))^2 = F(a,b)$$\n",
        "\n",
        "Для получения формулы прямой нам нужно найти два параметра $a$ и $b$, а для этого необходимо определить минимум функции двух переменных, так как именно эти параметры и являются нашими неизвестными. Мы знаем, что  своего минимума функция достигает в точке, где функция меняет убывание на возрастание,а её производная в этот момент будет равна нулю. Мы уже умеем находить производную функции одной переменной. Для нахождения производной функции двух переменных необходимо зафиусировать сначала одну из них и найти производную от второй, а затем зафиксировать вторую и найти производную от первой. В результате мы получим систему из двух уравнений, успешно решив которую найдём искомые коэффициенты."
      ],
      "metadata": {
        "id": "Lmhwr15ONsVn"
      }
    },
    {
      "cell_type": "markdown",
      "source": [
        " $$\\begin{cases} a\\sum_{i=1}^n x_i^2 +b\\sum_{i=1}^n x_i=\\sum_{i=1}^n x_iy_i, \\\\\\\\ a\\sum_{i=1}^n x_i +bn=\\sum_{i=1}^n y_i\\end{cases}$$"
      ],
      "metadata": {
        "id": "emqA8IZ9ef7i"
      }
    },
    {
      "cell_type": "markdown",
      "source": [
        "<tr><th>$x_i$<th>1<th><th>2<th><th>3<th><th>4<th><th>5<th><th> $∑x_i$=<th>15\n",
        "<tr><th>$y_i$ <th>3<th><th>6<th><th>5<th><th>7<th><th>10<th><th> $∑x_i$=<th>31\n",
        "<tr><th>$x_i^2$ <th>1<th><th>4<th><th>9<th><th>16<th><th>25<th><th> $∑x_i^2$=<th>55\n",
        "<tr><th>$x_iy_i$ <th>3<th><th>12<th><th>15<th><th>28<th><th>50<th><th> $∑x_iy_i$=<th>108"
      ],
      "metadata": {
        "id": "ReVAWfaLjLaz"
      }
    },
    {
      "cell_type": "markdown",
      "source": [
        " Так мы получили систему уравнений, где неизвестные вместо $x$ и $y$ стали  $a$ и $b$ \n",
        " $$\\begin{cases} 55a +15b=108 \\\\\\\\ 15a + 5b=31\\end{cases}$$"
      ],
      "metadata": {
        "id": "9ybO5NFIKFQR"
      }
    },
    {
      "cell_type": "markdown",
      "source": [
        "Эту систему можно решить разными способами, в том числе записав систему в виде матриц, но сейчас мы используем известный уже вам способ выразив сначала  переменную $b$ з второго уравнения\n",
        "$$b =\\frac{31-15a}{5}$$ \n",
        "Теперь подставим получившееся выражение в первое уравнение и найдём переменную $a$\n",
        "$$55a + 3(31-15a)=108$$\n",
        "$$55a-45a=108-93$$\n",
        "$$10a=15$$\n",
        "$$a= 1.5$$\n",
        "Зная переменную $a$ мы без труда найдём переменную $b$\n",
        "$$b=\\frac{31-15*1.5}{5}=\\frac{8.5}{5}$$\n",
        "$$b=1.7$$\n"
      ],
      "metadata": {
        "id": "jb9G9U2pLKS5"
      }
    },
    {
      "cell_type": "markdown",
      "source": [
        "Таким образом мы получили формулу задающую прямую линию максимально точно описывающую наш набор данных\n",
        "$$y = 1.5x+1.7$$\n",
        "или подставив наши переменные это будет выглядеть так\n",
        "$$\\hat{Frags} = 1.5*Level+1.7$$"
      ],
      "metadata": {
        "id": "nmMz4lpQrel_"
      }
    },
    {
      "cell_type": "markdown",
      "source": [
        "Подставив значение независимой переменной в формулу можно заметить, что несмотря на различие наблюдается сходство в изменении зависимой и независимой перемееных.\n",
        "\n",
        "Зная формулу для прогноза мы можем подставив в неё два следующих значения независимой переменной получить ожидаемое значение зависимой (целевой)."
      ],
      "metadata": {
        "id": "z5WhZE44fRCy"
      }
    },
    {
      "cell_type": "markdown",
      "source": [
        "|Level|1\\.0|2\\.0|3\\.0|4\\.0|5\\.0|6\\.0|7\\.0|\n",
        "|---|---|---|---|---|---|---|---|\n",
        "|Frags|3\\.0|6\\.0|5\\.0|7\\.0|10\\.0|---|---|\n",
        "|Прогноз|3\\.2|4\\.7|6\\.2|7\\.7|9\\.2|10\\.7|12\\.2|"
      ],
      "metadata": {
        "id": "Yemsw6Eee3GM"
      }
    },
    {
      "cell_type": "markdown",
      "source": [
        "# Задание"
      ],
      "metadata": {
        "id": "D91k2Njs2bhW"
      }
    },
    {
      "cell_type": "markdown",
      "source": [
        "- Создать набор данных не менее чем 2 строк х 5 столбцов. \n",
        "- Одну из переменных назначить зависимой (целевой). \n",
        "- Методом наименьших квадратов найти коэффициенты линейной зависимости между независимой и зависимой переменной. \n",
        "- Создать прогноз для изменения зависимой переменной на следующие два значения независимой."
      ],
      "metadata": {
        "id": "UFCBTRTI3GQv"
      }
    },
    {
      "cell_type": "markdown",
      "source": [
        "# Код для графиков и решения"
      ],
      "metadata": {
        "id": "nm9Ykdw-MWkE"
      }
    },
    {
      "cell_type": "markdown",
      "source": [
        "Создание таблицы"
      ],
      "metadata": {
        "id": "CGKB0iUC9cWn"
      }
    },
    {
      "cell_type": "code",
      "source": [
        "import pandas as pd\n",
        "df = pd.DataFrame({'Frags':[3, 6, 5, 7, 10]})\n",
        "df['Level'] = df.index+1\n",
        "df['Прогноз'] = df['Level']*1.5+1.7\n",
        "df.T\n"
      ],
      "metadata": {
        "colab": {
          "base_uri": "https://localhost:8080/",
          "height": 143
        },
        "id": "bVqCvVmodqA1",
        "outputId": "84a01559-6d7e-4377-9a26-b1f1da93df5b"
      },
      "execution_count": null,
      "outputs": [
        {
          "output_type": "execute_result",
          "data": {
            "text/plain": [
              "           0    1    2    3     4\n",
              "Frags    3.0  6.0  5.0  7.0  10.0\n",
              "Level    1.0  2.0  3.0  4.0   5.0\n",
              "Прогноз  3.2  4.7  6.2  7.7   9.2"
            ],
            "text/html": [
              "\n",
              "  <div id=\"df-278488de-6772-41b2-9ca7-566c468cb2fc\">\n",
              "    <div class=\"colab-df-container\">\n",
              "      <div>\n",
              "<style scoped>\n",
              "    .dataframe tbody tr th:only-of-type {\n",
              "        vertical-align: middle;\n",
              "    }\n",
              "\n",
              "    .dataframe tbody tr th {\n",
              "        vertical-align: top;\n",
              "    }\n",
              "\n",
              "    .dataframe thead th {\n",
              "        text-align: right;\n",
              "    }\n",
              "</style>\n",
              "<table border=\"1\" class=\"dataframe\">\n",
              "  <thead>\n",
              "    <tr style=\"text-align: right;\">\n",
              "      <th></th>\n",
              "      <th>0</th>\n",
              "      <th>1</th>\n",
              "      <th>2</th>\n",
              "      <th>3</th>\n",
              "      <th>4</th>\n",
              "    </tr>\n",
              "  </thead>\n",
              "  <tbody>\n",
              "    <tr>\n",
              "      <th>Frags</th>\n",
              "      <td>3.0</td>\n",
              "      <td>6.0</td>\n",
              "      <td>5.0</td>\n",
              "      <td>7.0</td>\n",
              "      <td>10.0</td>\n",
              "    </tr>\n",
              "    <tr>\n",
              "      <th>Level</th>\n",
              "      <td>1.0</td>\n",
              "      <td>2.0</td>\n",
              "      <td>3.0</td>\n",
              "      <td>4.0</td>\n",
              "      <td>5.0</td>\n",
              "    </tr>\n",
              "    <tr>\n",
              "      <th>Прогноз</th>\n",
              "      <td>3.2</td>\n",
              "      <td>4.7</td>\n",
              "      <td>6.2</td>\n",
              "      <td>7.7</td>\n",
              "      <td>9.2</td>\n",
              "    </tr>\n",
              "  </tbody>\n",
              "</table>\n",
              "</div>\n",
              "      <button class=\"colab-df-convert\" onclick=\"convertToInteractive('df-278488de-6772-41b2-9ca7-566c468cb2fc')\"\n",
              "              title=\"Convert this dataframe to an interactive table.\"\n",
              "              style=\"display:none;\">\n",
              "        \n",
              "  <svg xmlns=\"http://www.w3.org/2000/svg\" height=\"24px\"viewBox=\"0 0 24 24\"\n",
              "       width=\"24px\">\n",
              "    <path d=\"M0 0h24v24H0V0z\" fill=\"none\"/>\n",
              "    <path d=\"M18.56 5.44l.94 2.06.94-2.06 2.06-.94-2.06-.94-.94-2.06-.94 2.06-2.06.94zm-11 1L8.5 8.5l.94-2.06 2.06-.94-2.06-.94L8.5 2.5l-.94 2.06-2.06.94zm10 10l.94 2.06.94-2.06 2.06-.94-2.06-.94-.94-2.06-.94 2.06-2.06.94z\"/><path d=\"M17.41 7.96l-1.37-1.37c-.4-.4-.92-.59-1.43-.59-.52 0-1.04.2-1.43.59L10.3 9.45l-7.72 7.72c-.78.78-.78 2.05 0 2.83L4 21.41c.39.39.9.59 1.41.59.51 0 1.02-.2 1.41-.59l7.78-7.78 2.81-2.81c.8-.78.8-2.07 0-2.86zM5.41 20L4 18.59l7.72-7.72 1.47 1.35L5.41 20z\"/>\n",
              "  </svg>\n",
              "      </button>\n",
              "      \n",
              "  <style>\n",
              "    .colab-df-container {\n",
              "      display:flex;\n",
              "      flex-wrap:wrap;\n",
              "      gap: 12px;\n",
              "    }\n",
              "\n",
              "    .colab-df-convert {\n",
              "      background-color: #E8F0FE;\n",
              "      border: none;\n",
              "      border-radius: 50%;\n",
              "      cursor: pointer;\n",
              "      display: none;\n",
              "      fill: #1967D2;\n",
              "      height: 32px;\n",
              "      padding: 0 0 0 0;\n",
              "      width: 32px;\n",
              "    }\n",
              "\n",
              "    .colab-df-convert:hover {\n",
              "      background-color: #E2EBFA;\n",
              "      box-shadow: 0px 1px 2px rgba(60, 64, 67, 0.3), 0px 1px 3px 1px rgba(60, 64, 67, 0.15);\n",
              "      fill: #174EA6;\n",
              "    }\n",
              "\n",
              "    [theme=dark] .colab-df-convert {\n",
              "      background-color: #3B4455;\n",
              "      fill: #D2E3FC;\n",
              "    }\n",
              "\n",
              "    [theme=dark] .colab-df-convert:hover {\n",
              "      background-color: #434B5C;\n",
              "      box-shadow: 0px 1px 3px 1px rgba(0, 0, 0, 0.15);\n",
              "      filter: drop-shadow(0px 1px 2px rgba(0, 0, 0, 0.3));\n",
              "      fill: #FFFFFF;\n",
              "    }\n",
              "  </style>\n",
              "\n",
              "      <script>\n",
              "        const buttonEl =\n",
              "          document.querySelector('#df-278488de-6772-41b2-9ca7-566c468cb2fc button.colab-df-convert');\n",
              "        buttonEl.style.display =\n",
              "          google.colab.kernel.accessAllowed ? 'block' : 'none';\n",
              "\n",
              "        async function convertToInteractive(key) {\n",
              "          const element = document.querySelector('#df-278488de-6772-41b2-9ca7-566c468cb2fc');\n",
              "          const dataTable =\n",
              "            await google.colab.kernel.invokeFunction('convertToInteractive',\n",
              "                                                     [key], {});\n",
              "          if (!dataTable) return;\n",
              "\n",
              "          const docLinkHtml = 'Like what you see? Visit the ' +\n",
              "            '<a target=\"_blank\" href=https://colab.research.google.com/notebooks/data_table.ipynb>data table notebook</a>'\n",
              "            + ' to learn more about interactive tables.';\n",
              "          element.innerHTML = '';\n",
              "          dataTable['output_type'] = 'display_data';\n",
              "          await google.colab.output.renderOutput(dataTable, element);\n",
              "          const docLink = document.createElement('div');\n",
              "          docLink.innerHTML = docLinkHtml;\n",
              "          element.appendChild(docLink);\n",
              "        }\n",
              "      </script>\n",
              "    </div>\n",
              "  </div>\n",
              "  "
            ]
          },
          "metadata": {},
          "execution_count": 53
        }
      ]
    },
    {
      "cell_type": "markdown",
      "source": [
        "Расчёт двух следующих значений"
      ],
      "metadata": {
        "id": "dnfn9uwa9XJA"
      }
    },
    {
      "cell_type": "code",
      "source": [
        "pd.DataFrame([6,7])*1.5+1.7"
      ],
      "metadata": {
        "colab": {
          "base_uri": "https://localhost:8080/",
          "height": 112
        },
        "id": "Y200YwzW4lvI",
        "outputId": "e90580c6-d4ef-47af-d264-ee9df7ab95ea"
      },
      "execution_count": null,
      "outputs": [
        {
          "output_type": "execute_result",
          "data": {
            "text/plain": [
              "      0\n",
              "0  10.7\n",
              "1  12.2"
            ],
            "text/html": [
              "\n",
              "  <div id=\"df-7a028de6-3876-4ee6-88fd-b0811140e216\">\n",
              "    <div class=\"colab-df-container\">\n",
              "      <div>\n",
              "<style scoped>\n",
              "    .dataframe tbody tr th:only-of-type {\n",
              "        vertical-align: middle;\n",
              "    }\n",
              "\n",
              "    .dataframe tbody tr th {\n",
              "        vertical-align: top;\n",
              "    }\n",
              "\n",
              "    .dataframe thead th {\n",
              "        text-align: right;\n",
              "    }\n",
              "</style>\n",
              "<table border=\"1\" class=\"dataframe\">\n",
              "  <thead>\n",
              "    <tr style=\"text-align: right;\">\n",
              "      <th></th>\n",
              "      <th>0</th>\n",
              "    </tr>\n",
              "  </thead>\n",
              "  <tbody>\n",
              "    <tr>\n",
              "      <th>0</th>\n",
              "      <td>10.7</td>\n",
              "    </tr>\n",
              "    <tr>\n",
              "      <th>1</th>\n",
              "      <td>12.2</td>\n",
              "    </tr>\n",
              "  </tbody>\n",
              "</table>\n",
              "</div>\n",
              "      <button class=\"colab-df-convert\" onclick=\"convertToInteractive('df-7a028de6-3876-4ee6-88fd-b0811140e216')\"\n",
              "              title=\"Convert this dataframe to an interactive table.\"\n",
              "              style=\"display:none;\">\n",
              "        \n",
              "  <svg xmlns=\"http://www.w3.org/2000/svg\" height=\"24px\"viewBox=\"0 0 24 24\"\n",
              "       width=\"24px\">\n",
              "    <path d=\"M0 0h24v24H0V0z\" fill=\"none\"/>\n",
              "    <path d=\"M18.56 5.44l.94 2.06.94-2.06 2.06-.94-2.06-.94-.94-2.06-.94 2.06-2.06.94zm-11 1L8.5 8.5l.94-2.06 2.06-.94-2.06-.94L8.5 2.5l-.94 2.06-2.06.94zm10 10l.94 2.06.94-2.06 2.06-.94-2.06-.94-.94-2.06-.94 2.06-2.06.94z\"/><path d=\"M17.41 7.96l-1.37-1.37c-.4-.4-.92-.59-1.43-.59-.52 0-1.04.2-1.43.59L10.3 9.45l-7.72 7.72c-.78.78-.78 2.05 0 2.83L4 21.41c.39.39.9.59 1.41.59.51 0 1.02-.2 1.41-.59l7.78-7.78 2.81-2.81c.8-.78.8-2.07 0-2.86zM5.41 20L4 18.59l7.72-7.72 1.47 1.35L5.41 20z\"/>\n",
              "  </svg>\n",
              "      </button>\n",
              "      \n",
              "  <style>\n",
              "    .colab-df-container {\n",
              "      display:flex;\n",
              "      flex-wrap:wrap;\n",
              "      gap: 12px;\n",
              "    }\n",
              "\n",
              "    .colab-df-convert {\n",
              "      background-color: #E8F0FE;\n",
              "      border: none;\n",
              "      border-radius: 50%;\n",
              "      cursor: pointer;\n",
              "      display: none;\n",
              "      fill: #1967D2;\n",
              "      height: 32px;\n",
              "      padding: 0 0 0 0;\n",
              "      width: 32px;\n",
              "    }\n",
              "\n",
              "    .colab-df-convert:hover {\n",
              "      background-color: #E2EBFA;\n",
              "      box-shadow: 0px 1px 2px rgba(60, 64, 67, 0.3), 0px 1px 3px 1px rgba(60, 64, 67, 0.15);\n",
              "      fill: #174EA6;\n",
              "    }\n",
              "\n",
              "    [theme=dark] .colab-df-convert {\n",
              "      background-color: #3B4455;\n",
              "      fill: #D2E3FC;\n",
              "    }\n",
              "\n",
              "    [theme=dark] .colab-df-convert:hover {\n",
              "      background-color: #434B5C;\n",
              "      box-shadow: 0px 1px 3px 1px rgba(0, 0, 0, 0.15);\n",
              "      filter: drop-shadow(0px 1px 2px rgba(0, 0, 0, 0.3));\n",
              "      fill: #FFFFFF;\n",
              "    }\n",
              "  </style>\n",
              "\n",
              "      <script>\n",
              "        const buttonEl =\n",
              "          document.querySelector('#df-7a028de6-3876-4ee6-88fd-b0811140e216 button.colab-df-convert');\n",
              "        buttonEl.style.display =\n",
              "          google.colab.kernel.accessAllowed ? 'block' : 'none';\n",
              "\n",
              "        async function convertToInteractive(key) {\n",
              "          const element = document.querySelector('#df-7a028de6-3876-4ee6-88fd-b0811140e216');\n",
              "          const dataTable =\n",
              "            await google.colab.kernel.invokeFunction('convertToInteractive',\n",
              "                                                     [key], {});\n",
              "          if (!dataTable) return;\n",
              "\n",
              "          const docLinkHtml = 'Like what you see? Visit the ' +\n",
              "            '<a target=\"_blank\" href=https://colab.research.google.com/notebooks/data_table.ipynb>data table notebook</a>'\n",
              "            + ' to learn more about interactive tables.';\n",
              "          element.innerHTML = '';\n",
              "          dataTable['output_type'] = 'display_data';\n",
              "          await google.colab.output.renderOutput(dataTable, element);\n",
              "          const docLink = document.createElement('div');\n",
              "          docLink.innerHTML = docLinkHtml;\n",
              "          element.appendChild(docLink);\n",
              "        }\n",
              "      </script>\n",
              "    </div>\n",
              "  </div>\n",
              "  "
            ]
          },
          "metadata": {},
          "execution_count": 43
        }
      ]
    },
    {
      "cell_type": "markdown",
      "source": [
        "Точечный и линейный графики"
      ],
      "metadata": {
        "id": "tqj0Xiic9gqp"
      }
    },
    {
      "cell_type": "code",
      "source": [
        "import matplotlib.pyplot as plt\n",
        "%matplotlib inline\n",
        "df.plot(x=\"Level\", y=\"Frags\", kind=\"scatter\", c='Red')\n",
        "df.plot(x=\"Level\", y=\"Frags\")\n",
        "plt.show()"
      ],
      "metadata": {
        "colab": {
          "base_uri": "https://localhost:8080/",
          "height": 541
        },
        "id": "_oU1JY-k4zdp",
        "outputId": "58889222-a7b5-42af-e981-7d4bb551bb62"
      },
      "execution_count": null,
      "outputs": [
        {
          "output_type": "display_data",
          "data": {
            "text/plain": [
              "<Figure size 432x288 with 1 Axes>"
            ],
            "image/png": "[encoded data removed]"
          },
          "metadata": {
            "needs_background": "light"
          }
        },
        {
          "output_type": "display_data",
          "data": {
            "text/plain": [
              "<Figure size 432x288 with 1 Axes>"
            ],
            "image/png": "[encoded data removed]"
          },
          "metadata": {
            "needs_background": "light"
          }
        }
      ]
    },
    {
      "cell_type": "markdown",
      "source": [
        "Получение графика и коэффициентов линейной регрессии"
      ],
      "metadata": {
        "id": "LHgA_MMW9oYA"
      }
    },
    {
      "cell_type": "code",
      "source": [
        "import numpy as np\n",
        "import matplotlib.pyplot as plt\n",
        "%matplotlib inline\n",
        "model = np.polyfit(df[\"Level\"], df[\"Frags\"], 1)\n",
        "print(model)\n",
        "prognoz = np.poly1d(model)\n",
        "x_axis = range(8)\n",
        "y_axis = prognoz(x_axis)\n",
        "plt.xlabel('Level')\n",
        "plt.ylabel('Frags')    \n",
        "plt.scatter(df[\"Level\"], df[\"Frags\"], c = 'r')\n",
        "plt.plot(x_axis, y_axis, c = 'b')"
      ],
      "metadata": {
        "colab": {
          "base_uri": "https://localhost:8080/",
          "height": 314
        },
        "id": "EERPyKGWGwO8",
        "outputId": "0bbb03d6-8cb4-4c7d-886b-3000798de532"
      },
      "execution_count": null,
      "outputs": [
        {
          "output_type": "stream",
          "name": "stdout",
          "text": [
            "[1.5 1.7]\n"
          ]
        },
        {
          "output_type": "execute_result",
          "data": {
            "text/plain": [
              "[<matplotlib.lines.Line2D at 0x7fbd60bea2e0>]"
            ]
          },
          "metadata": {},
          "execution_count": 10
        },
        {
          "output_type": "display_data",
          "data": {
            "text/plain": [
              "<Figure size 432x288 with 1 Axes>"
            ],
            "image/png": "[encoded data removed]"
          },
          "metadata": {
            "needs_background": "light"
          }
        }
      ]
    }
  ]
}