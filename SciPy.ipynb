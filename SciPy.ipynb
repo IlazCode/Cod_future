{
  "nbformat": 4,
  "nbformat_minor": 0,
  "metadata": {
    "colab": {
      "provenance": [],
      "include_colab_link": true
    },
    "kernelspec": {
      "name": "python3",
      "display_name": "Python 3"
    },
    "language_info": {
      "name": "python"
    }
  },
  "cells": [
    {
      "cell_type": "markdown",
      "metadata": {
        "id": "view-in-github",
        "colab_type": "text"
      },
      "source": [
        "<a href=\"https://colab.research.google.com/github/vn322/Cod_future/blob/main/SciPy.ipynb\" target=\"_parent\"><img src=\"https://colab.research.google.com/assets/colab-badge.svg\" alt=\"Open In Colab\"/></a>"
      ]
    },
    {
      "cell_type": "code",
      "source": [
        "import pandas as pd\n",
        "import numpy as np\n",
        "import matplotlib.pyplot as plt\n",
        "import seaborn as sns"
      ],
      "metadata": {
        "id": "G5onEmrNezpC"
      },
      "execution_count": null,
      "outputs": []
    },
    {
      "cell_type": "code",
      "source": [
        "data = {\n",
        "    'Защита': [8, 9, 16, 15, 15, 17, 16, 18],\n",
        "    'Атака': [20, 20, 25, 40, 35, 30, 29, 27],\n",
        "    'Побед': [25, 30, 50, 60, 63, 62, 48, 55]\n",
        "}\n",
        "\n",
        "df = pd.DataFrame(data)\n",
        "df"
      ],
      "metadata": {
        "colab": {
          "base_uri": "https://localhost:8080/",
          "height": 300
        },
        "id": "Um3eg9tLeIU6",
        "outputId": "154bdb84-f64a-45fa-952f-38c7a28c8dd0"
      },
      "execution_count": null,
      "outputs": [
        {
          "output_type": "execute_result",
          "data": {
            "text/plain": [
              "   Защита  Атака  Побед\n",
              "0       8     20     25\n",
              "1       9     20     30\n",
              "2      16     25     50\n",
              "3      15     40     60\n",
              "4      15     35     63\n",
              "5      17     30     62\n",
              "6      16     29     48\n",
              "7      18     27     55"
            ],
            "text/html": [
              "\n",
              "  <div id=\"df-c2568458-6c34-4ded-9b19-885e13b499f7\">\n",
              "    <div class=\"colab-df-container\">\n",
              "      <div>\n",
              "<style scoped>\n",
              "    .dataframe tbody tr th:only-of-type {\n",
              "        vertical-align: middle;\n",
              "    }\n",
              "\n",
              "    .dataframe tbody tr th {\n",
              "        vertical-align: top;\n",
              "    }\n",
              "\n",
              "    .dataframe thead th {\n",
              "        text-align: right;\n",
              "    }\n",
              "</style>\n",
              "<table border=\"1\" class=\"dataframe\">\n",
              "  <thead>\n",
              "    <tr style=\"text-align: right;\">\n",
              "      <th></th>\n",
              "      <th>Защита</th>\n",
              "      <th>Атака</th>\n",
              "      <th>Побед</th>\n",
              "    </tr>\n",
              "  </thead>\n",
              "  <tbody>\n",
              "    <tr>\n",
              "      <th>0</th>\n",
              "      <td>8</td>\n",
              "      <td>20</td>\n",
              "      <td>25</td>\n",
              "    </tr>\n",
              "    <tr>\n",
              "      <th>1</th>\n",
              "      <td>9</td>\n",
              "      <td>20</td>\n",
              "      <td>30</td>\n",
              "    </tr>\n",
              "    <tr>\n",
              "      <th>2</th>\n",
              "      <td>16</td>\n",
              "      <td>25</td>\n",
              "      <td>50</td>\n",
              "    </tr>\n",
              "    <tr>\n",
              "      <th>3</th>\n",
              "      <td>15</td>\n",
              "      <td>40</td>\n",
              "      <td>60</td>\n",
              "    </tr>\n",
              "    <tr>\n",
              "      <th>4</th>\n",
              "      <td>15</td>\n",
              "      <td>35</td>\n",
              "      <td>63</td>\n",
              "    </tr>\n",
              "    <tr>\n",
              "      <th>5</th>\n",
              "      <td>17</td>\n",
              "      <td>30</td>\n",
              "      <td>62</td>\n",
              "    </tr>\n",
              "    <tr>\n",
              "      <th>6</th>\n",
              "      <td>16</td>\n",
              "      <td>29</td>\n",
              "      <td>48</td>\n",
              "    </tr>\n",
              "    <tr>\n",
              "      <th>7</th>\n",
              "      <td>18</td>\n",
              "      <td>27</td>\n",
              "      <td>55</td>\n",
              "    </tr>\n",
              "  </tbody>\n",
              "</table>\n",
              "</div>\n",
              "      <button class=\"colab-df-convert\" onclick=\"convertToInteractive('df-c2568458-6c34-4ded-9b19-885e13b499f7')\"\n",
              "              title=\"Convert this dataframe to an interactive table.\"\n",
              "              style=\"display:none;\">\n",
              "        \n",
              "  <svg xmlns=\"http://www.w3.org/2000/svg\" height=\"24px\"viewBox=\"0 0 24 24\"\n",
              "       width=\"24px\">\n",
              "    <path d=\"M0 0h24v24H0V0z\" fill=\"none\"/>\n",
              "    <path d=\"M18.56 5.44l.94 2.06.94-2.06 2.06-.94-2.06-.94-.94-2.06-.94 2.06-2.06.94zm-11 1L8.5 8.5l.94-2.06 2.06-.94-2.06-.94L8.5 2.5l-.94 2.06-2.06.94zm10 10l.94 2.06.94-2.06 2.06-.94-2.06-.94-.94-2.06-.94 2.06-2.06.94z\"/><path d=\"M17.41 7.96l-1.37-1.37c-.4-.4-.92-.59-1.43-.59-.52 0-1.04.2-1.43.59L10.3 9.45l-7.72 7.72c-.78.78-.78 2.05 0 2.83L4 21.41c.39.39.9.59 1.41.59.51 0 1.02-.2 1.41-.59l7.78-7.78 2.81-2.81c.8-.78.8-2.07 0-2.86zM5.41 20L4 18.59l7.72-7.72 1.47 1.35L5.41 20z\"/>\n",
              "  </svg>\n",
              "      </button>\n",
              "      \n",
              "  <style>\n",
              "    .colab-df-container {\n",
              "      display:flex;\n",
              "      flex-wrap:wrap;\n",
              "      gap: 12px;\n",
              "    }\n",
              "\n",
              "    .colab-df-convert {\n",
              "      background-color: #E8F0FE;\n",
              "      border: none;\n",
              "      border-radius: 50%;\n",
              "      cursor: pointer;\n",
              "      display: none;\n",
              "      fill: #1967D2;\n",
              "      height: 32px;\n",
              "      padding: 0 0 0 0;\n",
              "      width: 32px;\n",
              "    }\n",
              "\n",
              "    .colab-df-convert:hover {\n",
              "      background-color: #E2EBFA;\n",
              "      box-shadow: 0px 1px 2px rgba(60, 64, 67, 0.3), 0px 1px 3px 1px rgba(60, 64, 67, 0.15);\n",
              "      fill: #174EA6;\n",
              "    }\n",
              "\n",
              "    [theme=dark] .colab-df-convert {\n",
              "      background-color: #3B4455;\n",
              "      fill: #D2E3FC;\n",
              "    }\n",
              "\n",
              "    [theme=dark] .colab-df-convert:hover {\n",
              "      background-color: #434B5C;\n",
              "      box-shadow: 0px 1px 3px 1px rgba(0, 0, 0, 0.15);\n",
              "      filter: drop-shadow(0px 1px 2px rgba(0, 0, 0, 0.3));\n",
              "      fill: #FFFFFF;\n",
              "    }\n",
              "  </style>\n",
              "\n",
              "      <script>\n",
              "        const buttonEl =\n",
              "          document.querySelector('#df-c2568458-6c34-4ded-9b19-885e13b499f7 button.colab-df-convert');\n",
              "        buttonEl.style.display =\n",
              "          google.colab.kernel.accessAllowed ? 'block' : 'none';\n",
              "\n",
              "        async function convertToInteractive(key) {\n",
              "          const element = document.querySelector('#df-c2568458-6c34-4ded-9b19-885e13b499f7');\n",
              "          const dataTable =\n",
              "            await google.colab.kernel.invokeFunction('convertToInteractive',\n",
              "                                                     [key], {});\n",
              "          if (!dataTable) return;\n",
              "\n",
              "          const docLinkHtml = 'Like what you see? Visit the ' +\n",
              "            '<a target=\"_blank\" href=https://colab.research.google.com/notebooks/data_table.ipynb>data table notebook</a>'\n",
              "            + ' to learn more about interactive tables.';\n",
              "          element.innerHTML = '';\n",
              "          dataTable['output_type'] = 'display_data';\n",
              "          await google.colab.output.renderOutput(dataTable, element);\n",
              "          const docLink = document.createElement('div');\n",
              "          docLink.innerHTML = docLinkHtml;\n",
              "          element.appendChild(docLink);\n",
              "        }\n",
              "      </script>\n",
              "    </div>\n",
              "  </div>\n",
              "  "
            ]
          },
          "metadata": {},
          "execution_count": 2
        }
      ]
    },
    {
      "cell_type": "markdown",
      "source": [
        "Одномерная интерполяция — это область построения кривой, которая бы полностью соответствовала набору двумерных точек данных. В SciPy есть функция interp1d, которая используется для создания одномерной интерполяции. При подборе гиперпараметров можно выбрать закон по которому будет происходить интерполяция, по умолчанию он линейный, но также доступно использования квадратичной и кубической зависимостей (quadratic, cubic, linear) ."
      ],
      "metadata": {
        "id": "u-8u6daajisQ"
      }
    },
    {
      "cell_type": "markdown",
      "source": [
        "The kind parameter specifies the type of curve you want. This parameter can be quadratic, cubic, or any other type but the default is linear."
      ],
      "metadata": {
        "id": "PqoBMcwzh4Xn"
      }
    },
    {
      "cell_type": "code",
      "source": [
        "from scipy import interpolate\n",
        "x = np.arange(0, 8)\n",
        "y = df['Атака']\n",
        "f = interpolate.interp1d(x, y, kind = 'cubic')\n",
        "f1 = interpolate.interp1d(x, y, kind = 'linear')\n",
        "x1 = np.arange(2, 6, 0.1)\n",
        "\n",
        "y1 = f(x1)   # использовать функцию интерполяции, возвращаемую `interp1d`\n",
        "y2 = f1(x1)\n",
        "\n",
        "plt.figure()\n",
        "fig = plt.figure(figsize =(7, 5))\n",
        "\n",
        "# addind first subplot\n",
        "plt.subplot(121)\n",
        "plt.plot(x, y, 'o', x1, y1, '--')\n",
        "plt.legend([\"Кубическая\"])\n",
        "\n",
        "# addding second subplot\n",
        "plt.subplot(122)\n",
        "plt.plot(x, y, 'o', x1, y2, '--')\n",
        "plt.legend([\"Линейная\"])"
      ],
      "metadata": {
        "colab": {
          "base_uri": "https://localhost:8080/",
          "height": 355
        },
        "id": "BbcyAb3DiUhn",
        "outputId": "6937301b-7501-4044-f42d-c86529f86c8d"
      },
      "execution_count": null,
      "outputs": [
        {
          "output_type": "execute_result",
          "data": {
            "text/plain": [
              "<matplotlib.legend.Legend at 0x7fbf06e21e80>"
            ]
          },
          "metadata": {},
          "execution_count": 3
        },
        {
          "output_type": "display_data",
          "data": {
            "text/plain": [
              "<Figure size 432x288 with 0 Axes>"
            ]
          },
          "metadata": {}
        },
        {
          "output_type": "display_data",
          "data": {
            "text/plain": [
              "<Figure size 504x360 with 2 Axes>"
            ],
            "image/png": "[encoded data removed]"
          },
          "metadata": {
            "needs_background": "light"
          }
        }
      ]
    },
    {
      "cell_type": "markdown",
      "source": [
        "С помощью SciPy так же можно получать описательные статистики"
      ],
      "metadata": {
        "id": "9ET0zhi0bvU0"
      }
    },
    {
      "cell_type": "code",
      "source": [
        "from scipy import stats\n",
        "x = df\n",
        "pd.DataFrame({\"Максимум\": x.max(),\"Минимум\":x.min(), \n",
        "      \"Ср.арифмет\": x.mean(), \"Дисперсия\": \n",
        "      x.var()})"
      ],
      "metadata": {
        "colab": {
          "base_uri": "https://localhost:8080/",
          "height": 144
        },
        "id": "7Ol_tiuNm9F0",
        "outputId": "8eb68012-0f0a-4139-e7cc-dfeab9a32ce7"
      },
      "execution_count": null,
      "outputs": [
        {
          "output_type": "execute_result",
          "data": {
            "text/plain": [
              "        Максимум  Минимум  Ср.арифмет   Дисперсия\n",
              "Защита        18        8      14.250   13.642857\n",
              "Атака         40       20      28.250   47.928571\n",
              "Побед         63       25      49.125  208.696429"
            ],
            "text/html": [
              "\n",
              "  <div id=\"df-9ff87427-6ecc-4ec3-90c7-c33bed2ba4aa\">\n",
              "    <div class=\"colab-df-container\">\n",
              "      <div>\n",
              "<style scoped>\n",
              "    .dataframe tbody tr th:only-of-type {\n",
              "        vertical-align: middle;\n",
              "    }\n",
              "\n",
              "    .dataframe tbody tr th {\n",
              "        vertical-align: top;\n",
              "    }\n",
              "\n",
              "    .dataframe thead th {\n",
              "        text-align: right;\n",
              "    }\n",
              "</style>\n",
              "<table border=\"1\" class=\"dataframe\">\n",
              "  <thead>\n",
              "    <tr style=\"text-align: right;\">\n",
              "      <th></th>\n",
              "      <th>Максимум</th>\n",
              "      <th>Минимум</th>\n",
              "      <th>Ср.арифмет</th>\n",
              "      <th>Дисперсия</th>\n",
              "    </tr>\n",
              "  </thead>\n",
              "  <tbody>\n",
              "    <tr>\n",
              "      <th>Защита</th>\n",
              "      <td>18</td>\n",
              "      <td>8</td>\n",
              "      <td>14.250</td>\n",
              "      <td>13.642857</td>\n",
              "    </tr>\n",
              "    <tr>\n",
              "      <th>Атака</th>\n",
              "      <td>40</td>\n",
              "      <td>20</td>\n",
              "      <td>28.250</td>\n",
              "      <td>47.928571</td>\n",
              "    </tr>\n",
              "    <tr>\n",
              "      <th>Побед</th>\n",
              "      <td>63</td>\n",
              "      <td>25</td>\n",
              "      <td>49.125</td>\n",
              "      <td>208.696429</td>\n",
              "    </tr>\n",
              "  </tbody>\n",
              "</table>\n",
              "</div>\n",
              "      <button class=\"colab-df-convert\" onclick=\"convertToInteractive('df-9ff87427-6ecc-4ec3-90c7-c33bed2ba4aa')\"\n",
              "              title=\"Convert this dataframe to an interactive table.\"\n",
              "              style=\"display:none;\">\n",
              "        \n",
              "  <svg xmlns=\"http://www.w3.org/2000/svg\" height=\"24px\"viewBox=\"0 0 24 24\"\n",
              "       width=\"24px\">\n",
              "    <path d=\"M0 0h24v24H0V0z\" fill=\"none\"/>\n",
              "    <path d=\"M18.56 5.44l.94 2.06.94-2.06 2.06-.94-2.06-.94-.94-2.06-.94 2.06-2.06.94zm-11 1L8.5 8.5l.94-2.06 2.06-.94-2.06-.94L8.5 2.5l-.94 2.06-2.06.94zm10 10l.94 2.06.94-2.06 2.06-.94-2.06-.94-.94-2.06-.94 2.06-2.06.94z\"/><path d=\"M17.41 7.96l-1.37-1.37c-.4-.4-.92-.59-1.43-.59-.52 0-1.04.2-1.43.59L10.3 9.45l-7.72 7.72c-.78.78-.78 2.05 0 2.83L4 21.41c.39.39.9.59 1.41.59.51 0 1.02-.2 1.41-.59l7.78-7.78 2.81-2.81c.8-.78.8-2.07 0-2.86zM5.41 20L4 18.59l7.72-7.72 1.47 1.35L5.41 20z\"/>\n",
              "  </svg>\n",
              "      </button>\n",
              "      \n",
              "  <style>\n",
              "    .colab-df-container {\n",
              "      display:flex;\n",
              "      flex-wrap:wrap;\n",
              "      gap: 12px;\n",
              "    }\n",
              "\n",
              "    .colab-df-convert {\n",
              "      background-color: #E8F0FE;\n",
              "      border: none;\n",
              "      border-radius: 50%;\n",
              "      cursor: pointer;\n",
              "      display: none;\n",
              "      fill: #1967D2;\n",
              "      height: 32px;\n",
              "      padding: 0 0 0 0;\n",
              "      width: 32px;\n",
              "    }\n",
              "\n",
              "    .colab-df-convert:hover {\n",
              "      background-color: #E2EBFA;\n",
              "      box-shadow: 0px 1px 2px rgba(60, 64, 67, 0.3), 0px 1px 3px 1px rgba(60, 64, 67, 0.15);\n",
              "      fill: #174EA6;\n",
              "    }\n",
              "\n",
              "    [theme=dark] .colab-df-convert {\n",
              "      background-color: #3B4455;\n",
              "      fill: #D2E3FC;\n",
              "    }\n",
              "\n",
              "    [theme=dark] .colab-df-convert:hover {\n",
              "      background-color: #434B5C;\n",
              "      box-shadow: 0px 1px 3px 1px rgba(0, 0, 0, 0.15);\n",
              "      filter: drop-shadow(0px 1px 2px rgba(0, 0, 0, 0.3));\n",
              "      fill: #FFFFFF;\n",
              "    }\n",
              "  </style>\n",
              "\n",
              "      <script>\n",
              "        const buttonEl =\n",
              "          document.querySelector('#df-9ff87427-6ecc-4ec3-90c7-c33bed2ba4aa button.colab-df-convert');\n",
              "        buttonEl.style.display =\n",
              "          google.colab.kernel.accessAllowed ? 'block' : 'none';\n",
              "\n",
              "        async function convertToInteractive(key) {\n",
              "          const element = document.querySelector('#df-9ff87427-6ecc-4ec3-90c7-c33bed2ba4aa');\n",
              "          const dataTable =\n",
              "            await google.colab.kernel.invokeFunction('convertToInteractive',\n",
              "                                                     [key], {});\n",
              "          if (!dataTable) return;\n",
              "\n",
              "          const docLinkHtml = 'Like what you see? Visit the ' +\n",
              "            '<a target=\"_blank\" href=https://colab.research.google.com/notebooks/data_table.ipynb>data table notebook</a>'\n",
              "            + ' to learn more about interactive tables.';\n",
              "          element.innerHTML = '';\n",
              "          dataTable['output_type'] = 'display_data';\n",
              "          await google.colab.output.renderOutput(dataTable, element);\n",
              "          const docLink = document.createElement('div');\n",
              "          docLink.innerHTML = docLinkHtml;\n",
              "          element.appendChild(docLink);\n",
              "        }\n",
              "      </script>\n",
              "    </div>\n",
              "  </div>\n",
              "  "
            ]
          },
          "metadata": {},
          "execution_count": 4
        }
      ]
    },
    {
      "cell_type": "markdown",
      "source": [
        "# Критерий Стьюдента\n",
        "\n",
        "ttest_1samp вычисляет t-тест для среднего значения ОДНОЙ группы. Это двусторонний тест для нулевой гипотезы о том, что ожидаемое значение (среднее) выборки независимых наблюдений равно заданному среднему значению для генеральной совокупности, среднему значению."
      ],
      "metadata": {
        "id": "--6lVzjEpt57"
      }
    },
    {
      "cell_type": "code",
      "source": [
        "stats.ttest_1samp(x,x.mean()+1.5)"
      ],
      "metadata": {
        "colab": {
          "base_uri": "https://localhost:8080/"
        },
        "id": "XM8z58Q_X1uB",
        "outputId": "02c3c723-389a-40cc-bf4f-6564a700682b"
      },
      "execution_count": null,
      "outputs": [
        {
          "output_type": "execute_result",
          "data": {
            "text/plain": [
              "Ttest_1sampResult(statistic=Защита   -1.148639\n",
              "Атака    -0.612829\n",
              "Побед    -0.293683\n",
              "dtype: float64, pvalue=array([0.28843659, 0.55936503, 0.77751667]))"
            ]
          },
          "metadata": {},
          "execution_count": 5
        }
      ]
    },
    {
      "cell_type": "markdown",
      "source": [
        "t-test (Для двух несвязанных выборок).\n",
        "тест показывает, имеют ли две выборки данных разные средние значения (Теперь у нас две разные выборки, а не одна). Здесь мы принимаем нулевую гипотезу о том, что обе группы имеют равные средние"
      ],
      "metadata": {
        "id": "6a4vdlxssQLx"
      }
    },
    {
      "cell_type": "code",
      "source": [
        "stats.ttest_ind(df.loc[: 4],df.loc[4: ])"
      ],
      "metadata": {
        "colab": {
          "base_uri": "https://localhost:8080/"
        },
        "id": "lZmWL1_dYSNZ",
        "outputId": "db3a59f4-adc4-4803-f39c-e8c271be601c"
      },
      "execution_count": null,
      "outputs": [
        {
          "output_type": "execute_result",
          "data": {
            "text/plain": [
              "Ttest_indResult(statistic=array([-1.95034831, -0.46465181, -1.2268099 ]), pvalue=array([0.09212027, 0.65628726, 0.25955223]))"
            ]
          },
          "metadata": {},
          "execution_count": 6
        }
      ]
    },
    {
      "cell_type": "markdown",
      "source": [
        "t-тест для ДВУХ СВЯЗАННЫХ выборок. Это проверка нулевой гипотезы о том, что две связанные или повторяющиеся выборки имеют одинаковые средние (ожидаемые) значения."
      ],
      "metadata": {
        "id": "oTryVXciR-Hq"
      }
    },
    {
      "cell_type": "code",
      "source": [
        "stats.ttest_rel(df.loc[: 3],df.loc[4: ])"
      ],
      "metadata": {
        "colab": {
          "base_uri": "https://localhost:8080/"
        },
        "id": "F-nhBJgpkzL3",
        "outputId": "3e4bd097-d5fd-4930-ab16-f107519117b3"
      },
      "execution_count": null,
      "outputs": [
        {
          "output_type": "execute_result",
          "data": {
            "text/plain": [
              "Ttest_relResult(statistic=array([-2.43450801, -0.65611986, -1.40649763]), pvalue=array([0.09295484, 0.55857961, 0.25426636]))"
            ]
          },
          "metadata": {},
          "execution_count": 7
        }
      ]
    },
    {
      "cell_type": "markdown",
      "source": [
        "Параметрические критерии – критерии, основанные на оценке параметров распределения, к которым относятся среднее арифметическое, среднеквадратическое отклонение, дисперсия. Они  применимы только в том случае, если численные данные подчиняются нормальному распределению. Если распределение отличается от нормального, то следует пользоваться так называемыми непараметрическими критериями. В основе проверки на “нормальность” лежит проверка гипотез. Нулевая гипотеза – данные распределены нормально, альтернативная гипотеза – данные не имеют нормального распределения.\n",
        "\n",
        "Критерий Шапиро-Уилка используется для проверки гипотезы H_0: «случайная величина X распределена нормально» и является одним наиболее эффективных критериев проверки нормальности. Критерии, проверяющие нормальность выборки, являются частным случаем критериев согласия. Если выборка нормальна, можно далее применять мощные параметрические критерии"
      ],
      "metadata": {
        "id": "gVc8MdDn6CzS"
      }
    },
    {
      "cell_type": "code",
      "source": [
        "import scipy\n",
        "# Shapiro-Wilk Test\n",
        "stat, p = scipy.stats.shapiro( df['Защита']) # тест Шапиро-Уилк\n",
        "print('Statistics=%.3f, p-value=%.3f' % (stat, p))\n",
        "\n",
        "alpha = 0.05\n",
        "if p > alpha:\n",
        "    print('Принять гипотезу о нормальности, looks Gaussian (fail to reject H0)')\n",
        "else:\n",
        "    print('Отклонить гипотезу о нормальности, does not look Gaussian (reject H0)')"
      ],
      "metadata": {
        "colab": {
          "base_uri": "https://localhost:8080/"
        },
        "id": "oYPGIP4l5c9o",
        "outputId": "924dbbcc-7d51-4a68-fe2c-aa6a041f109c"
      },
      "execution_count": null,
      "outputs": [
        {
          "output_type": "stream",
          "name": "stdout",
          "text": [
            "Statistics=0.813, p-value=0.040\n",
            "Отклонить гипотезу о нормальности, does not look Gaussian (reject H0)\n"
          ]
        }
      ]
    },
    {
      "cell_type": "markdown",
      "source": [
        "Критерий К-квадрата Д'Агостино. Этот тест сочетает в себе тест на перекос и тест на эксцесс для проверки нормальности. Перекос — это значение, которое говорит нам, насколько распределение сосредоточено влево или вправо. Другими словами, это мера асимметрии распределения. Эксцесс похож на перекос, но отличается тем, что он говорит нам, какая часть распределения сосредоточена в хвосте. Объединяя эти две метрики, критерий Д'Агостино К-квадрат призван обеспечить большую надежность. "
      ],
      "metadata": {
        "id": "fyeh1iQua5a8"
      }
    },
    {
      "cell_type": "code",
      "source": [
        "# D'Agostino and Pearson's Test\n",
        "# Критерий согласия Пирсона, Тест д'Агостино на K ^ 2\n",
        "stat, p = scipy.stats.normaltest( df['Атака']) \n",
        "print('Statistics=%.3f, p-value=%.3f' % (stat, p))\n",
        "\n",
        "alpha = 0.05\n",
        "if p > alpha:\n",
        "    print('Принять гипотезу о нормальности')\n",
        "else:\n",
        "    print('Отклонить гипотезу о нормальности')"
      ],
      "metadata": {
        "colab": {
          "base_uri": "https://localhost:8080/"
        },
        "id": "7IxQUsXu6Ic-",
        "outputId": "dad28e43-436c-4c6c-a695-a27cc5c680c6"
      },
      "execution_count": null,
      "outputs": [
        {
          "output_type": "stream",
          "name": "stdout",
          "text": [
            "Statistics=0.368, p-value=0.832\n",
            "Принять гипотезу о нормальности\n"
          ]
        },
        {
          "output_type": "stream",
          "name": "stderr",
          "text": [
            "/usr/local/lib/python3.8/dist-packages/scipy/stats/stats.py:1541: UserWarning: kurtosistest only valid for n>=20 ... continuing anyway, n=8\n",
            "  warnings.warn(\"kurtosistest only valid for n>=20 ... continuing \"\n"
          ]
        }
      ]
    },
    {
      "cell_type": "markdown",
      "source": [
        "В случае если гипотеза о нормальности отклонена , необходимо воспользоваться непараметрическими критериями. Эти тесты работают аналогичным образом, но требуют, чтобы реальные оценочные данные были сначала преобразованы в ранговые данные, прежде чем можно будет выполнить тест."
      ],
      "metadata": {
        "id": "6ARhD1dacKNs"
      }
    },
    {
      "cell_type": "markdown",
      "source": [
        "**U-тест Манна-Уитни**\n",
        "\n",
        "https://docs.scipy.org/doc/scipy/reference/generated/scipy.stats.mannwhitneyu.html \n",
        "\n",
        "\n",
        "Простой непараметрический критерий. Мощность критерия выше, чем у Q-критерия Розенбаума.U-критерий Манна-Уитни используется для оценки различий между двумя независимыми выборками по уровню какого-либо количественного признака.\n",
        "\n",
        "Этот метод определяет, достаточно ли мала зона перекрещивающихся значений между двумя рядами (ранжированным рядом значений параметра в первой выборке и таким же во второй выборке). Чем меньше значение критерия, тем вероятнее, что различия между значениями параметра в выборках достоверны.\n",
        "\n",
        "**Ограничения применимости критерия**\n",
        "\n",
        "В каждой из выборок должно быть не менее 3 значений признака. Допускается, чтобы в одной выборке было два значения, но во второй тогда не менее пяти.\n",
        "В выборочных данных не должно быть совпадающих значений (все числа — разные) или таких совпадений должно быть очень мало (до 10)"
      ],
      "metadata": {
        "id": "VDmiWpp1I12W"
      }
    },
    {
      "cell_type": "code",
      "source": [
        "# Mann-Whitney U test\n",
        "\n",
        "from scipy.stats import mannwhitneyu\n",
        "\n",
        "stat, p = mannwhitneyu(df['Защита'],df['Побед'])\n",
        "print('Statistics=%.3f, p=%.3f' % (stat, p))\n",
        "# interpret\n",
        "alpha = 0.05\n",
        "if p > alpha:\n",
        "\tprint('Same distribution (fail to reject H0)')\n",
        "else:\n",
        "\tprint('Different distribution (reject H0)')"
      ],
      "metadata": {
        "id": "XmgP3m-oI1OA",
        "colab": {
          "base_uri": "https://localhost:8080/"
        },
        "outputId": "322b831f-c628-46ed-ef5c-263939deed45"
      },
      "execution_count": null,
      "outputs": [
        {
          "output_type": "stream",
          "name": "stdout",
          "text": [
            "Statistics=0.000, p=0.001\n",
            "Different distribution (reject H0)\n"
          ]
        }
      ]
    },
    {
      "cell_type": "markdown",
      "source": [
        "**Критерий Уилкоксона для связанных выборок** (также используются названия Т-критерий Уилкоксона, критерий Вилкоксона, критерий знаковых рангов Уилкоксона, критерий суммы рангов Уилкоксона) – непараметрический статистический критерий, используемый для сравнения двух связанных (парных) выборок по уровню какого-либо количественного признака, измеренного в непрерывной или в порядковой шкале.\n",
        "\n",
        "Суть метода состоит в том, что сопоставляются абсолютные величины выраженности сдвигов в том или ином направлении. Для этого сначала все абсолютные величины сдвигов ранжируются, а потом суммируются ранги. Если сдвиги в ту или иную сторону происходят случайно, то и суммы их рангов окажутся примерно равны. Если же интенсивность сдвигов в одну сторону больше, то сумма рангов абсолютных значений сдвигов в противоположную сторону будет значительно ниже, чем это могло бы быть при случайных изменениях.\n",
        "\n",
        "Т-критерий Уилкоксона используется для оценки различий между двумя рядами измерений, выполненных для одной и той же совокупности исследуемых, но в разных условиях или в разное время. Данный тест способен выявить направленность и выраженность изменений - то есть, являются ли показатели больше сдвинутыми в одном направлении, чем в другом.\n",
        "\n",
        "Классическим примером ситуации, в которой может применяться Т-критерий Уилкоксона для связанных совокупностей, является исследование \"до-после\", когда сравниваются показатели до и после лечения. Например, при изучении эффективности антигипертензивного средства сравнивается артериальное давление до приема препарата и после приема.\n",
        "\n",
        "**Условия и ограничения** применения Т-критерия Уилкоксона\n",
        "Критерий Уилкоксона является непараметрическим критерием, поэтому, в отличие от парного t-критерия Стьюдента, не требует наличия нормального распределения сравниваемых совокупностей.\n",
        "\n",
        "Число исследуемых при использовании T-критерия Уилкоксона должно быть не менее \n",
        "Изучаемый признак может быть измерен как в количественной непрерывной (артериальное давление, ЧСС, содержание лейкоцитов в 1 мл крови), так и в порядковой шкале (число баллов, степень тяжести заболевания, степень обсемененности микроорганизмами).\n",
        "Данный критерий используется только в случае сравнения двух рядов измерений. Аналогом Т-критерия Уилкоксона для сравнения трех и более связанных совокупностей является Критерий Фридмана."
      ],
      "metadata": {
        "id": "m9MUPc5XMM8m"
      }
    },
    {
      "cell_type": "code",
      "source": [
        "from scipy.stats import wilcoxon\n",
        "\n",
        "stat, p = wilcoxon(df['Атака'],df['Побед'])\n",
        "print('Statistics=%.3f, p=%.3f' % (stat, p))\n",
        "# interpret\n",
        "alpha = 0.05\n",
        "if p > alpha:\n",
        "\tprint('Same distribution (fail to reject H0)')\n",
        "else:\n",
        "\tprint('Different distribution (reject H0)')"
      ],
      "metadata": {
        "id": "xQ_EAiRkMzFJ",
        "colab": {
          "base_uri": "https://localhost:8080/"
        },
        "outputId": "01c76656-e0f0-4d4c-f897-59a2de5d379e"
      },
      "execution_count": null,
      "outputs": [
        {
          "output_type": "stream",
          "name": "stdout",
          "text": [
            "Statistics=0.000, p=0.008\n",
            "Different distribution (reject H0)\n"
          ]
        }
      ]
    },
    {
      "cell_type": "markdown",
      "source": [
        "**Критерий Краскела — Уоллиса** предназначен для проверки равенства медиан нескольких выборок. Данный критерий является многомерным обобщением критерия Уилкоксона — Манна — Уитни. Критерий Краскела — Уоллиса является ранговым, поэтому он инвариантен по отношению к любому монотонному преобразованию шкалы измерения.\n",
        "\n",
        "https://docs.scipy.org/doc/scipy/reference/generated/scipy.stats.kruskal.html\n",
        "\n",
        "Известен также под названиями: H-критерий Краскела — Уоллиса, однофакторный дисперсионный анализ Краскела — Уоллиса (англ. Kruskal — Wallis one-way analysis of variance)\n",
        "\n",
        "Примеры задач\n",
        "Проходит чемпионат мира. Первая выборка — опрос болельщиков с вопросом «Каковы шансы на победу сборной России?» до начала чемпионата. Вторая выборка —- после первой игры, третья — после второго матча и т. д. Значения в выборках — шансы России на победу по десятибалльной шкале (1 —- «никаких перспектив», 10 — «отвезти в Россию кубок —- дело времени»). Требуется проверить, зависят ли результаты опросов от хода чемпионата."
      ],
      "metadata": {
        "id": "85hKxvXVO7m2"
      }
    },
    {
      "cell_type": "code",
      "source": [
        "# Kruskal-Wallis H-test\n",
        "from scipy.stats import kruskal\n",
        "\n",
        "\n",
        "# compare samples\n",
        "stat, p = kruskal(df['Защита'],df['Атака'],df['Побед'])\n",
        "print('Statistics=%.3f, p=%.3f' % (stat, p))\n",
        "# interpret\n",
        "alpha = 0.05\n",
        "if p > alpha:\n",
        "\tprint('Same distributions (fail to reject H0)')\n",
        "else:\n",
        "\tprint('Different distributions (reject H0)')"
      ],
      "metadata": {
        "id": "sy66ABsbOJA2",
        "colab": {
          "base_uri": "https://localhost:8080/"
        },
        "outputId": "3aec605c-2e2b-4a5b-af46-a964b46aa8a3"
      },
      "execution_count": null,
      "outputs": [
        {
          "output_type": "stream",
          "name": "stdout",
          "text": [
            "Statistics=18.280, p=0.000\n",
            "Different distributions (reject H0)\n"
          ]
        }
      ]
    },
    {
      "cell_type": "markdown",
      "source": [
        "**Критерий Фридман**а (англ. Friedman test) — непараметрический статистический тест, разработанный американским экономистом Милтоном Фридманом. Является обобщением критерия Уилкоксона и применяется для сопоставления **c** условий измерения (${\\displaystyle c\\geqslant 3}$) для **n** объектов (испытуемых) с ранжированием по индивидуальным значениям измерений. Непараметрический аналог дисперсионного анализа с повторными измерениями ANOVA. \n",
        "\n",
        "Он позволяет проверять гипотезы о различии более чем двух (т.е. от 3-х и до 100) повторных измерений по уровню выраженности изучаемой переменной.\n",
        "\n",
        "Критерий более эффективен, чем дисперсионный анализ в случае малых выборок (до 30 объектов в выборке) и распределений, отличных от нормального. Он основан на ранжировании повторных измерений для каждого объекта выборки. Проверяется при помощи критерия хи-квадрат ( ).  При справедливости нулевой гипотезы значения статистики Фридмана (критерия Фридмана) малы, т.е. эмпирический критерий меньше, чем критический. И это означает, что различия случайны и недостоверны.\n",
        "\n",
        "Критерий Фридмана позволяет установить, что величины показателей от условия к условию изменяются, но при этом не указывает на направление изменений и в этом смысле он похож на критерий знаков.\n",
        "\n",
        "Критерий Фридмана является обобщением критерия Вилкоксона на большее, чем два, количество условий измерения, при этом ранжируются не абсолютные величины сдвигов, а сами индивидуальные значения измерений.\n",
        "\n",
        "Нулевая гипотеза H0 = {между полученными в разных условиях показателями (т.е. между проверяемыми выборками) существуют лишь случайные различия}.\n",
        "\n",
        "Альтернативная гипотеза H1 = {между полученными в разных условиях показателями (т.е. между проверяемыми выборками)  имеются существенные неслучайные различия}.\n",
        "\n",
        "Ранжируются индивидуальные значения показателей (повторные измерения) для каждого экземпляра выборки в порядке убывания признака (ранжирование параметров каждой строки)."
      ],
      "metadata": {
        "id": "gFOT0zboQoD8"
      }
    },
    {
      "cell_type": "code",
      "source": [
        "# Friedman test\n",
        "\n",
        "from scipy.stats import friedmanchisquare\n",
        "\n",
        "# compare samples\n",
        "stat, p = friedmanchisquare(df['Защита'],df['Атака'],df['Побед'])\n",
        "print('Statistics=%.3f, p=%.3f' % (stat, p))\n",
        "# interpret\n",
        "alpha = 0.05\n",
        "if p > alpha:\n",
        "\tprint('Same distributions (fail to reject H0)')\n",
        "else:\n",
        "\tprint('Different distributions (reject H0)')"
      ],
      "metadata": {
        "id": "kLKAqBfURFmd",
        "colab": {
          "base_uri": "https://localhost:8080/"
        },
        "outputId": "5d64e555-e3ff-4d68-a82f-3fefe0315948"
      },
      "execution_count": null,
      "outputs": [
        {
          "output_type": "stream",
          "name": "stdout",
          "text": [
            "Statistics=16.000, p=0.000\n",
            "Different distributions (reject H0)\n"
          ]
        }
      ]
    },
    {
      "cell_type": "markdown",
      "source": [
        "Пакет `scipy.optimize` нам множество процедур оптимизации. Подробный список всех функций Optimize можно найти, набрав следующее в консоли iPython:\n",
        "\n",
        "`help(scipy.optimize)`\n",
        "Среди наиболее часто используемых методов — минимизация по методу наименьших квадратов, подгонка кривых, минимизация многомерных скалярных функций и т. д.\n",
        "\n",
        "Здесь мы пытаемся найти кривую наиболее точно объясняющую набор данных. Это очень похоже на регрессию, но в регрессии основная цель - это прогноз, а здесь объяснение."
      ],
      "metadata": {
        "id": "lZB6mTvmKewb"
      }
    },
    {
      "cell_type": "code",
      "source": [
        "from scipy.optimize import curve_fit "
      ],
      "metadata": {
        "id": "Yqaxkq-0lWSB"
      },
      "execution_count": null,
      "outputs": []
    },
    {
      "cell_type": "code",
      "source": [
        "# defining the variables \n",
        "values_y = np.array([11, 10, 12, 14, 15, 15, 14, 13, 14, 11, 10, 11, 7, 9, 8, 6, 5]) \n",
        "values_x = np.array(range(len(values_y))) \n"
      ],
      "metadata": {
        "id": "XOS-_-gN9U9_"
      },
      "execution_count": null,
      "outputs": []
    },
    {
      "cell_type": "markdown",
      "source": [
        "Определим некоторые функции отображения, чтобы использовать метод `curve_fit()` и проверить их различия на соответствие данным. Мы будем использовать приведенные ниже уравнения в качестве апроксимирующих функций:\n",
        "\n",
        "$$y = ax^2 + bx + c$$\n",
        "\n",
        "$$у = ax^3 + bx + c$$\n",
        "\n",
        "$$y = ax^3 + bx^2 + c$$\n",
        "\n",
        "$$у = а × ехр(bх) + с$$\n",
        "\n",
        "$$у = а × sin(bх^2) + с$$"
      ],
      "metadata": {
        "id": "UVgxixOA9dgo"
      }
    },
    {
      "cell_type": "code",
      "source": [
        "# defining objective functions \n",
        "def mapping1(values_x, a, b, c): \n",
        "    return a * values_x**2 + b * values_x + c \n",
        " \n",
        "def mapping2(values_x, a, b, c): \n",
        "    return a * values_x**3 + b * values_x + c \n",
        " \n",
        "def mapping3(values_x, a, b, c): \n",
        "    return a * values_x**3 + b * values_x**2 + c \n",
        " \n",
        "def mapping4(values_x, a, b, c): \n",
        "    return a * np.exp(b * values_x) + c \n",
        "\n",
        "\n",
        "def mapping5(values_x, a, b, c): \n",
        "    return a * np.sin(b * values_x**2) + c"
      ],
      "metadata": {
        "id": "IrqXCGPG9iC3"
      },
      "execution_count": null,
      "outputs": []
    },
    {
      "cell_type": "markdown",
      "source": [
        "Метод curve_fit() возвращает оптимальные аргументы и рассчитанные значения ковариации в качестве выходных данных.\n"
      ],
      "metadata": {
        "id": "uVYty81E9njW"
      }
    },
    {
      "cell_type": "code",
      "source": [
        "# using the curve_fit() function \n",
        "args, covar = curve_fit(mapping1, values_x, values_y) \n",
        "print(\"Arguments: \", args) \n",
        "print(\"Co-Variance: \", covar) \n"
      ],
      "metadata": {
        "colab": {
          "base_uri": "https://localhost:8080/"
        },
        "id": "RLRYpNRg9q5O",
        "outputId": "b1e259db-8550-4ad2-e65d-6ebbed4bdc58"
      },
      "execution_count": null,
      "outputs": [
        {
          "output_type": "stream",
          "name": "stdout",
          "text": [
            "Arguments:  [-0.08139835  0.8636481  11.1362229 ]\n",
            "Co-Variance:  [[ 2.38376125e-04 -3.81401800e-03  9.53504499e-03]\n",
            " [-3.81401800e-03  6.55534344e-02 -1.88793892e-01]\n",
            " [ 9.53504499e-03 -1.88793892e-01  7.79966692e-01]]\n"
          ]
        }
      ]
    },
    {
      "cell_type": "code",
      "source": [
        "args, _ = curve_fit(mapping1, values_x, values_y) \n",
        "a, b, c = args[0], args[1], args[2] \n",
        "y_fit1 = a * values_x**2 + b * values_x + c \n",
        " \n",
        "args, _  = curve_fit(mapping2, values_x, values_y) \n",
        "a, b, c = args[0], args[1], args[2] \n",
        "y_fit2 = a * values_x**3 + b * values_x + c \n",
        " \n",
        "args, _  = curve_fit(mapping3, values_x, values_y) \n",
        "a, b, c = args[0], args[1], args[2] \n",
        "y_fit3 = a * values_x**3 + b * values_x**2 + c \n",
        " \n",
        "args, _  = curve_fit(mapping4, values_x, values_y) \n",
        "a, b, c = args[0], args[1], args[2] \n",
        "y_fit4 = a * np.exp(values_x * b) + c \n",
        "\n",
        "\n",
        "\n",
        "args, _  = curve_fit(mapping5, values_x, values_y) \n",
        "a, b, c = args[0], args[1], args[2] \n",
        "y_fit5 = a * np.sin(b * values_x**2) + c "
      ],
      "metadata": {
        "id": "hU9uCYXj9zaO"
      },
      "execution_count": null,
      "outputs": []
    },
    {
      "cell_type": "code",
      "source": [
        "# plotting the graph \n",
        "plt.figure(figsize=(10, 8), dpi=80)\n",
        "plt.plot(values_x, values_y, 'bo', label=\"y - original\") \n",
        "plt.plot(values_x, y_fit1, label=\"y = a * x^2 + b * x + c\") \n",
        "plt.plot(values_x, y_fit2, label=\"y = a * x^3 + b * x + c\") \n",
        "plt.plot(values_x, y_fit3, label=\"y = a * x^3 + b * x^2 * c\") \n",
        "plt.plot(values_x, y_fit4, label=\"y = a * exp(b * x) + c\") \n",
        "plt.plot(values_x, y_fit5, label=\"y = a * sin(b * x) + c\") \n",
        "\n",
        "plt.xlabel('x') \n",
        "plt.ylabel('y') \n",
        "plt.legend(loc = 'best', fancybox = True, shadow = True) \n",
        "plt.grid(True) \n",
        "plt.show() \n"
      ],
      "metadata": {
        "colab": {
          "base_uri": "https://localhost:8080/",
          "height": 548
        },
        "id": "eObbaqc291t2",
        "outputId": "5ba279e6-e5ed-44e0-b1fd-888ce570ae32"
      },
      "execution_count": null,
      "outputs": [
        {
          "output_type": "display_data",
          "data": {
            "text/plain": [
              "<Figure size 800x640 with 1 Axes>"
            ],
            "image/png": "[encoded data removed]"
          },
          "metadata": {
            "needs_background": "light"
          }
        }
      ]
    },
    {
      "cell_type": "code",
      "source": [
        "y_fit1"
      ],
      "metadata": {
        "colab": {
          "base_uri": "https://localhost:8080/"
        },
        "id": "HWjIzAM2AQRw",
        "outputId": "b91b3d5a-815e-4388-ac9f-aa84d743aaab"
      },
      "execution_count": null,
      "outputs": [
        {
          "output_type": "execute_result",
          "data": {
            "text/plain": [
              "array([11.1362229 , 11.91847265, 12.53792569, 12.99458204, 13.2884417 ,\n",
              "       13.41950465, 13.3877709 , 13.19324046, 12.83591332, 12.31578948,\n",
              "       11.63286894, 10.78715171,  9.77863777,  8.60732714,  7.27321981,\n",
              "        5.77631578,  4.11661505])"
            ]
          },
          "metadata": {},
          "execution_count": 21
        }
      ]
    },
    {
      "cell_type": "markdown",
      "source": [
        "Коэффициент детерминации, метрика $R^2$ (R-squared), позволяет быстро делать проверку на адекватность\n",
        "\n",
        "\n",
        "${\\displaystyle R^{2}=1-{\\frac {SS_{res}}{SS_{tot}}}}$\n",
        "\n",
        "\n",
        "единица минус доля средней квадратичной ошибки модели (MSE) от MSE среднего\n",
        "\n",
        "Чем меньше средняя квдратичная ошибка, тем $R^2$ больше (ближе к единице), тем выше качество модели.\n",
        "Чем больше R2, тем выше качество модели.\n",
        "\n",
        "Если $R^2$ отрицательна, то модель работает хуже, чем простой подсчет среднего.\n",
        "\n",
        "Если $R^2$ = 0, модель работает так же, как среднее"
      ],
      "metadata": {
        "id": "r8e1NhnITD8r"
      }
    },
    {
      "cell_type": "markdown",
      "source": [
        "Для проверки используем штатную функцию библиотеки Scikit-learn `sklearn.metrics.r2_score`"
      ],
      "metadata": {
        "id": "KiyjMXNnVOB9"
      }
    },
    {
      "cell_type": "code",
      "source": [
        "from sklearn.metrics import r2_score\n",
        "\n",
        "coefficient_of_dermination = r2_score(values_y, y_fit1)\n",
        "coefficient_of_dermination"
      ],
      "metadata": {
        "colab": {
          "base_uri": "https://localhost:8080/"
        },
        "id": "6BDpOBftBQJH",
        "outputId": "b4a1a73b-c6ab-4a48-f304-ad00dc088ec2"
      },
      "execution_count": null,
      "outputs": [
        {
          "output_type": "execute_result",
          "data": {
            "text/plain": [
              "0.8339130492394128"
            ]
          },
          "metadata": {},
          "execution_count": 22
        }
      ]
    },
    {
      "cell_type": "code",
      "source": [
        "lst = [y_fit1, y_fit2, y_fit3, y_fit4, y_fit5]\n",
        "for i in lst:\n",
        "  print(r2_score(values_y,i))"
      ],
      "metadata": {
        "colab": {
          "base_uri": "https://localhost:8080/"
        },
        "id": "vGSSOFK-Bemw",
        "outputId": "60da5528-4f86-4e13-e4b0-0b691b72c122"
      },
      "execution_count": null,
      "outputs": [
        {
          "output_type": "stream",
          "name": "stdout",
          "text": [
            "0.8339130492394128\n",
            "0.778765478163733\n",
            "0.7520890622101405\n",
            "0.7183236428731563\n",
            "0.3138433683699563\n"
          ]
        }
      ]
    },
    {
      "cell_type": "markdown",
      "source": [
        "# Задание"
      ],
      "metadata": {
        "id": "F2d334RXockO"
      }
    },
    {
      "cell_type": "markdown",
      "source": [
        "Второе исследование на собранном ранее наборе данных  (он может быть дополнен или собран новый) \n",
        "- произвести интерполяцию заполнив промежуточные значения\n",
        "- произвести статистический анализ данных\n",
        "- опытным путём подобрать функцию описывающую набор данных с коэффициентом аппроксимации $R^2 > 0.85$\n",
        "- jобосновать каждый щаг кратким рассказом\n"
      ],
      "metadata": {
        "id": "wdai5QsCOXZy"
      }
    }
  ]
}