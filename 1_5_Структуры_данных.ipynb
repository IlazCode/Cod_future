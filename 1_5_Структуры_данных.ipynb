{
  "nbformat": 4,
  "nbformat_minor": 0,
  "metadata": {
    "colab": {
      "provenance": [],
      "toc_visible": true,
      "authorship_tag": "ABX9TyMtGbUTT2iHxecdHvSxQc1H",
      "include_colab_link": true
    },
    "kernelspec": {
      "name": "python3",
      "display_name": "Python 3"
    },
    "language_info": {
      "name": "python"
    }
  },
  "cells": [
    {
      "cell_type": "markdown",
      "metadata": {
        "id": "view-in-github",
        "colab_type": "text"
      },
      "source": [
        "<a href=\"https://colab.research.google.com/github/vn322/Cod_future/blob/main/1_5_%D0%A1%D1%82%D1%80%D1%83%D0%BA%D1%82%D1%83%D1%80%D1%8B_%D0%B4%D0%B0%D0%BD%D0%BD%D1%8B%D1%85.ipynb\" target=\"_parent\"><img src=\"https://colab.research.google.com/assets/colab-badge.svg\" alt=\"Open In Colab\"/></a>"
      ]
    },
    {
      "cell_type": "markdown",
      "source": [
        "# Массив, списки"
      ],
      "metadata": {
        "id": "M7ZBuRKKBLfV"
      }
    },
    {
      "cell_type": "markdown",
      "source": [
        "Структуры данных — это важный элемент программирования, требуемый для написания более сложных программ. В этом материале будут примеры, которые наглядно продемонстрируют особенности структур данных, объяснят примеры присваивания и инициализации.\n",
        "\n",
        "Инициализировать массив(список), кортеж и словарь можно несколькими способами. Один из наиболее распространенных — присвоить соответствующие символы переменной. Для списка эти символы — [], для кортежа — (), а для словаря — {}. Если присвоить эти символы без значений внутри, то будут созданы соответствующие пустые структуры данных.\n",
        "\n",
        "Функции, которые будут использоваться дальше, являются альтернативными способами создания списков, кортежей и словарей. Их необязательно знать, но лучше запомнить, ведь они могут встретиться в коде других разработчиков."
      ],
      "metadata": {
        "id": "pUEFhguVbolR"
      }
    },
    {
      "cell_type": "markdown",
      "source": [
        "Структуры данных используются во всех аспектах программирования.\n",
        "\n",
        "Списки: содержат значения. Ими могут быть числа, строки, имена и так далее:\n",
        "- Виды игровых предметов;\n",
        "- Имена героев;\n",
        "- Посещенные локации;\n",
        "- и так далее;\n",
        "\n",
        "Кортежи: этот тип данных очень похож на список, но с одним исключением. После создания кортежа его значения нельзя менять. Списки — изменяемые, а кортежи — нет. Это может понадобиться в определенных случаях для достижения безопасности или просто удобства. В кортежах могут, например, храниться:\n",
        "- Все месяцы года;\n",
        "- Юниты;\n",
        "- Локации;\n",
        "\n",
        "Важно только отметить, что кортежи не являются вообще неизменяемыми, ведь вы всегда можете переписать код, поменяв или удалив определенные значения. Речь идет о том, что значения не могут быть изменены после создания — во время работы программы.\n",
        "\n",
        "Словари — это пары из ключа и значения. Словари также являются изменяемыми. Это удобная структура данных, которая подходит для сохранения значения с определенными дополнительными параметрами, например:\n",
        "\n",
        "- Названия фракций + их юниты\n",
        "- Игорвые предметы и их признаки\n",
        "- Локации с  именованными поселениями\n",
        "\n",
        "Функции `list()` и `dict()` очень простые. Они помогают создавать соответствующие структуры данных.\n",
        "\n",
        "Рекомендации по работе со структурами данных\n",
        "\n",
        "- `list()`, `dict()` и `float()` используют круглые скобки, потому что они являются функциями;\n",
        "- Скобки сами по себе представляют кортеж, и их не стоит путать со скобками в функциях, например, `list()`;\n",
        "- При создании пустого списка нужно использовать квадратные, а не круглые скобки: []."
      ],
      "metadata": {
        "id": "tRgEvVUvb0VE"
      }
    },
    {
      "cell_type": "markdown",
      "source": [
        "# Массив как структурированный тип данных."
      ],
      "metadata": {
        "id": "JHsZz5E2d_EI"
      }
    },
    {
      "cell_type": "markdown",
      "source": [
        "В современном мире ежесекундно происходит обработка огромного числа данных. Если необходимо обрабатывать данные одного типа — числа, символы, строки и др., то для их хранения можно воспользоваться типом данных, который называется массив.\n",
        "\n",
        "Массив — упорядоченная последовательность данных, состоящая из конечного числа элементов, имеющих один и тот же тип, и обозначаемая одним именем.\n",
        "\n",
        "Массив является структурированным (составным) типом данных. Это означает, что величина, описанная как массив, состоит из конечного числа других величин. Так, например, можно создать массивы из 10 целых или 100 вещественных чисел. Тип элементов массива называют базовым типом. Все элементы массива упорядочены по индексам (номерам элементов), определяющим местоположение элемента в массиве. "
      ],
      "metadata": {
        "id": "YonZPpd3P8kY"
      }
    },
    {
      "cell_type": "markdown",
      "source": [
        "Массиву присваивается имя, посредством которого можно ссылаться на него как на единое целое. Элементы, образующие массив, упорядочены так, что каждому элементу соответствует номер (индекс), определяющий его место в общей последовательности. Индексы могут быть выражением, значение которого принадлежит любому простому  типу, кроме вещественного. Индексы должны быть неотрицательными. Доступ к каждому отдельному элементу осуществляется обращением к имени массива с указанием индекса нужного элемента, индекс элемента записывается после имени в квадратных скобках.\n",
        "\n",
        "Если обращение к элементам массива осуществляется при помощи только одного индекса, то такие массивы называют одномерными или линейными. Для хранения массива в памяти компьютера выделяется непрерывный участок, в котором элементы располагаются последовательно друг за другом."
      ],
      "metadata": {
        "id": "Ir8cEvllQIFG"
      }
    },
    {
      "cell_type": "markdown",
      "source": [
        "Массив может иметь несколько разный вид в разных библиотеках Python. В стандартной он реализован в виде списка.\n",
        "\n",
        " Списки — распространенная структура данных в Python. Они используются для самых разных целей.\n",
        "\n",
        "\n",
        "**.append()**\tметод для добавления элементов в список\n",
        "\n",
        "**.insert()**\tдля добавления элементов в конкретное место в списке\n",
        "\n",
        "**.index()**\tдля получения индекса элемента\n",
        "\n",
        "**.clear()**\tдля очистки списка\n",
        "\n",
        "**.remove()**\tдля удаления элемента списка\n",
        "\n",
        "**.reverse()**\tчтобы развернуть список в обратном порядке\n",
        "\n",
        "**.count()**\tдля подсчета количества элементов в списке\n",
        "\n",
        "**sum()**\tдля сложения элементов списка\n",
        "\n",
        "**min()**\tпоказывает элемент с самым низким значением в списке\n",
        "\n",
        "**max()**\tэлемент с самым высоким значением в списке\n"
      ],
      "metadata": {
        "id": "emFHDsrxQ9BQ"
      }
    },
    {
      "cell_type": "markdown",
      "source": [
        "Пример списка"
      ],
      "metadata": {
        "id": "jG2HF9IpTStA"
      }
    },
    {
      "cell_type": "code",
      "execution_count": 2,
      "metadata": {
        "colab": {
          "base_uri": "https://localhost:8080/"
        },
        "id": "P4jb-uOabX7n",
        "outputId": "8bad1b02-28a8-4804-d4ab-62c00df05829"
      },
      "outputs": [
        {
          "output_type": "stream",
          "name": "stdout",
          "text": [
            "['Python', 'Дота', 23, 51, False, 'False', '22']\n"
          ]
        }
      ],
      "source": [
        "p_datatypes = [\"Python\", \"Дота\", 23, 51, False, \"False\", \"22\"]\n",
        "print(p_datatypes)"
      ]
    },
    {
      "cell_type": "markdown",
      "source": [
        "Видно, что внутри находятся значения разных типов. Это строка, целое число, булево значение и снова строка.\n",
        "\n",
        "Последние два элемента списка — это строки, хотя они могут напоминать булев тип и целое число. Однако использование кавычек прямо указывает на то, что это строки в Python.\n",
        "\n",
        "Наконец, если посмотреть на индексы элементов, то можно увидеть, что нулевой элемент — это «Python», а шестой — «22». Оба являются строками. Хотя элементов 7, последним индексом является 6.\n",
        "\n",
        "Доступ к элементам: доступ к элементам списка можно получить с помощью их индекса, указанного в квадратных скобках.\n",
        "\n",
        "Например, для получения первого элемента («Python») нужно написать следующим образом: `p_datatypes[0]`. Для получения элемента 23: `p_datatypes[2]`.\n",
        "\n",
        "Посмотрим на другие примеры. Последний элемент следующего списка — булево значение False. Получим доступ к нему внутри функции print."
      ],
      "metadata": {
        "id": "2gamTyMNTIXi"
      }
    },
    {
      "cell_type": "code",
      "source": [
        "p_datatypes = [\"Python\", \"Дота\", 23, False]\n",
        "print(p_datatypes[3])"
      ],
      "metadata": {
        "colab": {
          "base_uri": "https://localhost:8080/"
        },
        "id": "bMqWgAcGTeaB",
        "outputId": "222c9c97-d43a-4d3e-cebe-0dadadc7bb88"
      },
      "execution_count": 3,
      "outputs": [
        {
          "output_type": "stream",
          "name": "stdout",
          "text": [
            "False\n"
          ]
        }
      ]
    },
    {
      "cell_type": "code",
      "source": [],
      "metadata": {
        "id": "cib5xD-KTymZ"
      },
      "execution_count": null,
      "outputs": []
    },
    {
      "cell_type": "code",
      "source": [
        "p_datatypes = [\"Python\", \"Дота\", 23, False]\n",
        "print(p_datatypes[1])"
      ],
      "metadata": {
        "colab": {
          "base_uri": "https://localhost:8080/"
        },
        "id": "x4dLcGPPTpby",
        "outputId": "99d94d9d-02f4-48c7-b472-e63b8b03b303"
      },
      "execution_count": 4,
      "outputs": [
        {
          "output_type": "stream",
          "name": "stdout",
          "text": [
            "Дота\n"
          ]
        }
      ]
    },
    {
      "cell_type": "markdown",
      "source": [
        "**Обратное индексирование**\n",
        "\n",
        "Обратное индексирование. Элементы списка также можно вызывать, начиная с конца — это называется обратным индексированием. В отличие от обычного индексирования, обратное начинается не с 0, а с -1.\n",
        "Для получения последнего элемента списка p_datatypes: `p_datatypes[-1]`.\n",
        "Аналогично `p_datatypes[-2]` вернет второй элемент с конца и так далее.\n",
        "\n",
        "\n",
        "Этот подход имеет свои преимущества в определенных ситуациях. Куда практичнее и эффективнее использовать обратное индексирование, ведь благодаря этому можно не считать количество элементов в списке. Еще одно преимущество становится заметным при изменяемой длине списка. В этом случае снова не придется считать элементы с самого начала, чтобы добраться до финального.\n"
      ],
      "metadata": {
        "id": "vqkrQp0iTu9B"
      }
    },
    {
      "cell_type": "code",
      "source": [
        "p_datatypes = [\"Python\", \"Дота\", 23, False]\n",
        "print(p_datatypes[-3])"
      ],
      "metadata": {
        "colab": {
          "base_uri": "https://localhost:8080/"
        },
        "id": "YWK04ZshT6Pg",
        "outputId": "1e226043-4a1c-41ca-dd49-69f726f307ee"
      },
      "execution_count": 8,
      "outputs": [
        {
          "output_type": "stream",
          "name": "stdout",
          "text": [
            "Дота\n"
          ]
        }
      ]
    },
    {
      "cell_type": "markdown",
      "source": [
        "**append()** — это, наверное, самый используемый метод списков. Он используется для добавления элементов к списку. Теперь посмотрим на пример, где метод .append() используется для добавления нового элемента в конец списка.\n"
      ],
      "metadata": {
        "id": "XG-rhLoeUNQB"
      }
    },
    {
      "cell_type": "code",
      "source": [
        "p_datatypes = [\"Python\", 42]\n",
        "p_datatypes.append(\"ДОТА\")\n",
        "print(p_datatypes)"
      ],
      "metadata": {
        "colab": {
          "base_uri": "https://localhost:8080/"
        },
        "id": "d6bio1c0UIjg",
        "outputId": "7d042cbd-e3be-485b-f904-d9bf509794ad"
      },
      "execution_count": 9,
      "outputs": [
        {
          "output_type": "stream",
          "name": "stdout",
          "text": [
            "['Python', 42, 'ДОТА']\n"
          ]
        }
      ]
    },
    {
      "cell_type": "markdown",
      "source": [
        "**.insert()** — еще один полезный метод для списков. Он используется для вставки элемента в список по индексу.\n",
        "\n",
        "Посмотрим на примере — .insert() принимает два аргумента: индекс, куда нужно вставить новый элемент, и сам элемент."
      ],
      "metadata": {
        "id": "-NagJUjsUhRR"
      }
    },
    {
      "cell_type": "code",
      "source": [
        "p_datatypes = [\"Python\", 42]\n",
        "p_datatypes.insert(1, \"ДОТА\")\n",
        "print(p_datatypes)"
      ],
      "metadata": {
        "colab": {
          "base_uri": "https://localhost:8080/"
        },
        "id": "9BTSgsoJUgH6",
        "outputId": "9ce99169-8714-444b-930a-138a26d9ced6"
      },
      "execution_count": 10,
      "outputs": [
        {
          "output_type": "stream",
          "name": "stdout",
          "text": [
            "['Python', 'ДОТА', 42]\n"
          ]
        }
      ]
    },
    {
      "cell_type": "markdown",
      "source": [
        "**.index()** помогает определить индекс элемента. Дальше идет пример получения индекса конкретного элемента."
      ],
      "metadata": {
        "id": "ycFwgFfVUv9C"
      }
    },
    {
      "cell_type": "code",
      "source": [
        "my_lst = [1, 33, 5, 55, 1001]\n",
        "a = my_lst.index(55)\n",
        "print(a)"
      ],
      "metadata": {
        "colab": {
          "base_uri": "https://localhost:8080/"
        },
        "id": "WCRxKaMPUvIR",
        "outputId": "f20126b5-4325-44df-d637-0285610d91d9"
      },
      "execution_count": 12,
      "outputs": [
        {
          "output_type": "stream",
          "name": "stdout",
          "text": [
            "3\n"
          ]
        }
      ]
    },
    {
      "cell_type": "markdown",
      "source": [
        "Метод **.clear()** удаляет все элементы списка."
      ],
      "metadata": {
        "id": "f94rvhRhVBqh"
      }
    },
    {
      "cell_type": "code",
      "source": [
        "my_lst = [1, 33, 5, 55, 1001]\n",
        "my_lst.clear()\n",
        "print(my_lst)"
      ],
      "metadata": {
        "colab": {
          "base_uri": "https://localhost:8080/"
        },
        "id": "Fj5d7dAlVV1-",
        "outputId": "487864bf-58c3-4247-cf38-29ecf3925f4d"
      },
      "execution_count": 14,
      "outputs": [
        {
          "output_type": "stream",
          "name": "stdout",
          "text": [
            "[]\n"
          ]
        }
      ]
    },
    {
      "cell_type": "markdown",
      "source": [
        "Метод **.remove()** удаляет конкретный элемент списка."
      ],
      "metadata": {
        "id": "HCe3KoVUVdpx"
      }
    },
    {
      "cell_type": "code",
      "source": [
        "my_lst = [1, 33, 5, 55, 1001]\n",
        "my_lst.remove(1001)\n",
        "print(my_lst)"
      ],
      "metadata": {
        "colab": {
          "base_uri": "https://localhost:8080/"
        },
        "id": "D4oe6i_FVChC",
        "outputId": "410dff69-43f2-48e9-a05a-a010b1cd642f"
      },
      "execution_count": 13,
      "outputs": [
        {
          "output_type": "stream",
          "name": "stdout",
          "text": [
            "[1, 33, 5, 55]\n"
          ]
        }
      ]
    },
    {
      "cell_type": "markdown",
      "source": [
        "Метод **.reverse()** разворачивает порядок элементов в списке."
      ],
      "metadata": {
        "id": "jhBgA-jVVhNp"
      }
    },
    {
      "cell_type": "code",
      "source": [
        "my_lst = [1, 33, 5, 55, 1001]\n",
        "my_lst.reverse()\n",
        "print(my_lst)"
      ],
      "metadata": {
        "colab": {
          "base_uri": "https://localhost:8080/"
        },
        "id": "3WD7jS-CVlKx",
        "outputId": "735bceec-8d73-4b90-e5dd-f6d5711e8a80"
      },
      "execution_count": 15,
      "outputs": [
        {
          "output_type": "stream",
          "name": "stdout",
          "text": [
            "[1001, 55, 5, 33, 1]\n"
          ]
        }
      ]
    },
    {
      "cell_type": "markdown",
      "source": [
        "Метод **.count()** используется, чтобы подсчитать, как часто конкретный элемент встречается в списке.\n",
        "\n",
        "В следующем примере мы считаем, как часто в списке встречается число 5. Результат — 1, что значит, что число 5 встретилось всего один раз.\n",
        "\n",
        "В этом же случае в списке нет 8, поэтому и вывод будет 0."
      ],
      "metadata": {
        "id": "YqxcMEevVuCB"
      }
    },
    {
      "cell_type": "code",
      "source": [
        "my_lst = [1, 33, 5, 55, 1001]\n",
        "\n",
        "print(my_lst.count(5))\n",
        "print(my_lst.count(8))"
      ],
      "metadata": {
        "colab": {
          "base_uri": "https://localhost:8080/"
        },
        "id": "nyMljh1TV41T",
        "outputId": "0d96ea18-ef22-4d80-d5eb-e8858dfa8831"
      },
      "execution_count": 19,
      "outputs": [
        {
          "output_type": "stream",
          "name": "stdout",
          "text": [
            "1\n",
            "0\n"
          ]
        }
      ]
    },
    {
      "cell_type": "markdown",
      "source": [
        "Функция **sum()** вернет общую сумму всех чисел в списке."
      ],
      "metadata": {
        "id": "KDc1MHmCWlyv"
      }
    },
    {
      "cell_type": "code",
      "source": [
        "my_lst = [1, 33, 5, 55, 1001]\n",
        "\n",
        "sum(my_lst)"
      ],
      "metadata": {
        "colab": {
          "base_uri": "https://localhost:8080/"
        },
        "id": "fsgfGw8OWmvJ",
        "outputId": "a414b228-fc77-4b6e-8510-dbaf7ef61dc7"
      },
      "execution_count": 20,
      "outputs": [
        {
          "output_type": "execute_result",
          "data": {
            "text/plain": [
              "1095"
            ]
          },
          "metadata": {},
          "execution_count": 20
        }
      ]
    },
    {
      "cell_type": "markdown",
      "source": [
        "## Задания"
      ],
      "metadata": {
        "id": "qgS1ByRCXBny"
      }
    },
    {
      "cell_type": "markdown",
      "source": [
        "Допишите код, что бы вывести последний элемент списка."
      ],
      "metadata": {
        "id": "zhiFo6M3XJna"
      }
    },
    {
      "cell_type": "code",
      "source": [
        "sample = [\"abc\", \"xyz\", \"aba\", 1221]\n",
        "\n",
        "\n",
        "\n",
        "# требуемый вывод:\n",
        "# 1221"
      ],
      "metadata": {
        "id": "dCCGIDBkXDY7"
      },
      "execution_count": null,
      "outputs": []
    },
    {
      "cell_type": "markdown",
      "source": [
        "Допишите код, что бы вывести расширенный список."
      ],
      "metadata": {
        "id": "YOf46cY9XVJC"
      }
    },
    {
      "cell_type": "code",
      "source": [
        "sample = [\"Green\", \"White\", \"Black\"]\n",
        "\n",
        "\n",
        "\n",
        "print(sample)\n",
        "# требуемый вывод:\n",
        "# [\"Red\", \"Green\", \"White\", \"Black\", \"Pink\", \"Yellow\"]"
      ],
      "metadata": {
        "id": "lwAOZmVZXYI0"
      },
      "execution_count": null,
      "outputs": []
    },
    {
      "cell_type": "markdown",
      "source": [
        "Исправьте ошибки в коде, что бы посчитать сумму элементов в списке."
      ],
      "metadata": {
        "id": "y0zrXkT9XgAN"
      }
    },
    {
      "cell_type": "code",
      "source": [
        "sample = [\"11\", \"33\", \"50\"]\n",
        "print(sample.sum())\n",
        "\n",
        "\n",
        "# требуемый вывод:\n",
        "# 94"
      ],
      "metadata": {
        "id": "DPhJZRn2XiIS"
      },
      "execution_count": null,
      "outputs": []
    },
    {
      "cell_type": "markdown",
      "source": [
        "# Словари"
      ],
      "metadata": {
        "id": "GyHCHNDrXpJy"
      }
    },
    {
      "cell_type": "markdown",
      "source": [
        "- Структура. Словарь состоит из пар ключ-значение, которые разделяются запятыми. Внутри каждой пары значение отделяется от ключа двоеточием. Понять синтаксис проще всего на примере.\n",
        "\n",
        "\n",
        "- Составная структура. Словарь — полезная составная структура данных, которая может хранить разные типы данных. По аналогии со списком ее можно называть последовательностью данных.\n",
        "\n",
        "\n",
        "- Нет порядка. В отличие от списков и кортежей у словарей нет определенного порядка. Можно представить, что пары из ключа и значения перемешаны в мешке. И в нем не существует первого, второго или последнего элементов — они просто случайно существуют. Такая структура нацелена на увеличение производительности и предполагает доступ к значению по ключу."
      ],
      "metadata": {
        "id": "pmqQcefUXqqC"
      }
    },
    {
      "cell_type": "markdown",
      "source": [
        "Словари — распространенная структура данных в Python. Они используются в самых разных ситуациях. Вот некоторые из методов и функций словарей:\n",
        "\n",
        "**.keys()** — используется для вывода ключей словаря.\n",
        "\n",
        "**.items()** — используется для создания кортежей с ключами и значениями.\n",
        "\n",
        "**.get()** — метод для получения значения по ключу.\n",
        "\n",
        "**.clear()** — очистить словарь.\n",
        "\n",
        "**.copy()** — скопировать весь словарь.\n",
        "\n",
        "**len()** — получить длину словаря.\n",
        "\n",
        "**type()** — узнать тип.\n",
        "\n",
        "**min()** — получить ключ с минимальным значением.\n",
        "\n",
        "**max()** — получить ключ с максимальным значением."
      ],
      "metadata": {
        "id": "R18Lk0LOYXPr"
      }
    },
    {
      "cell_type": "markdown",
      "source": [
        "Пример словаря, где в качестве ключей используются строки, а в качестве значений — целые числа."
      ],
      "metadata": {
        "id": "mlPPcVR-Ygbz"
      }
    },
    {
      "cell_type": "code",
      "source": [
        "p_ages = {\"Андрей\": 12, \"Виктор\": 14, \"Максим\": 16}\n",
        "print(p_ages)"
      ],
      "metadata": {
        "colab": {
          "base_uri": "https://localhost:8080/"
        },
        "id": "N16z1A9IYfdF",
        "outputId": "1058c9ab-b422-450f-ca71-7f9180598383"
      },
      "execution_count": 22,
      "outputs": [
        {
          "output_type": "stream",
          "name": "stdout",
          "text": [
            "{'Андрей': 12, 'Виктор': 14, 'Максим': 16}\n"
          ]
        }
      ]
    },
    {
      "cell_type": "markdown",
      "source": [
        "Здесь ключами уже являются целые числа, а значениями — строки."
      ],
      "metadata": {
        "id": "5n5NvXLSY8jL"
      }
    },
    {
      "cell_type": "code",
      "source": [
        "p_plyr = {1: \"Андрей\", 2: \"Виктор\", 3: \"Максим\"}\n",
        "print(p_plyr)"
      ],
      "metadata": {
        "colab": {
          "base_uri": "https://localhost:8080/"
        },
        "id": "d_bE0gKCZA6L",
        "outputId": "a3d93ba8-0fc9-431b-f086-8e3849ee801a"
      },
      "execution_count": 25,
      "outputs": [
        {
          "output_type": "stream",
          "name": "stdout",
          "text": [
            "{1: 'Андрей', 2: 'Виктор', 3: 'Максим'}\n"
          ]
        }
      ]
    },
    {
      "cell_type": "markdown",
      "source": [
        "Доступ к значениям словаря можно получить по его ключам."
      ],
      "metadata": {
        "id": "jqMgtOLhZiUG"
      }
    },
    {
      "cell_type": "code",
      "source": [
        "p_ages = {\"Андрей\": 12, \"Виктор\": 14, \"Максим\": 16}\n",
        "p_ages[\"Виктор\"]"
      ],
      "metadata": {
        "colab": {
          "base_uri": "https://localhost:8080/"
        },
        "id": "Z3ao5Z9wZmNr",
        "outputId": "c8d53e7a-7a53-433d-d8f9-2063c4096d83"
      },
      "execution_count": 27,
      "outputs": [
        {
          "output_type": "execute_result",
          "data": {
            "text/plain": [
              "14"
            ]
          },
          "metadata": {},
          "execution_count": 27
        }
      ]
    },
    {
      "cell_type": "markdown",
      "source": [
        "Начиная с версии Python 3.9, в языке появились новые операторы, которые облегчают процесс слияния словарей.\n",
        "\n",
        "**Merge (|)**: этот оператор позволяет объединять два словаря с помощью одного символа |.\n",
        "\n",
        "**Update (|=)**: с помощью такого оператора можно обновить первый словарь значением второго (с типом dict)\n",
        "\n",
        "Вот основные отличия этих двух операторов:\n",
        "\n",
        "«|» создает новый словарь, объединяя два, а «|=» обновляет первый словарь.\n",
        "\n",
        "Оператор merge (|) упрощает процесс объединения словарей и работы с их значениями.\n",
        "\n",
        "Оператор update (|=) используется для обновления словарей.\n"
      ],
      "metadata": {
        "id": "sYaAnSVfZ3Xz"
      }
    },
    {
      "cell_type": "code",
      "source": [
        "dict1 = {\"x\": 1, \"y\":2}\n",
        "dict2 = {\"a\":11, \"b\":22}\n",
        "dict3 =  dict1 | dict2\n",
        "print(dict3)"
      ],
      "metadata": {
        "colab": {
          "base_uri": "https://localhost:8080/"
        },
        "id": "dDkUBjKUaBm9",
        "outputId": "7af24847-c936-4dd8-e0b3-b4532b00f6ff"
      },
      "execution_count": 28,
      "outputs": [
        {
          "output_type": "stream",
          "name": "stdout",
          "text": [
            "{'x': 1, 'y': 2, 'a': 11, 'b': 22}\n"
          ]
        }
      ]
    },
    {
      "cell_type": "code",
      "source": [
        "dict1 = {\"x\": 1, \"y\":2}\n",
        "dict2 = {\"a\":11, \"b\":22}\n",
        "dict2 |=  dict1\n",
        "print(dict2)"
      ],
      "metadata": {
        "colab": {
          "base_uri": "https://localhost:8080/"
        },
        "id": "9-h9KvuRaPvM",
        "outputId": "2c7357d0-04fc-4714-95d7-09cad7b34347"
      },
      "execution_count": 30,
      "outputs": [
        {
          "output_type": "stream",
          "name": "stdout",
          "text": [
            "{'a': 11, 'b': 22, 'x': 1, 'y': 2}\n"
          ]
        }
      ]
    },
    {
      "cell_type": "markdown",
      "source": [
        "**.keys()** — это удобный метод, который возвращает все ключи в словаре. Дальше посмотрим на пример с использованием метода keys."
      ],
      "metadata": {
        "id": "FtmyGxw5aO49"
      }
    },
    {
      "cell_type": "code",
      "source": [
        "print(p_ages.keys())"
      ],
      "metadata": {
        "colab": {
          "base_uri": "https://localhost:8080/"
        },
        "id": "nu8K3UkaaoXc",
        "outputId": "bff17b99-289a-4be7-a4da-369949bca353"
      },
      "execution_count": 31,
      "outputs": [
        {
          "output_type": "stream",
          "name": "stdout",
          "text": [
            "dict_keys(['Андрей', 'Виктор', 'Максим'])\n"
          ]
        }
      ]
    },
    {
      "cell_type": "markdown",
      "source": [
        "**.items()** возвращает список кортежей, каждый из которых является парой из ключа и значения. Полезность этой функции станет понятна на более поздних этапах работы в качестве программиста, а пока достаточно просто запомнить эту функцию."
      ],
      "metadata": {
        "id": "_4dDU3muavze"
      }
    },
    {
      "cell_type": "code",
      "source": [
        "p_ages.items()"
      ],
      "metadata": {
        "colab": {
          "base_uri": "https://localhost:8080/"
        },
        "id": "kX8qVDqravYM",
        "outputId": "08d9a0d9-e129-460f-dde0-a5cc736c5ed8"
      },
      "execution_count": 32,
      "outputs": [
        {
          "output_type": "execute_result",
          "data": {
            "text/plain": [
              "dict_items([('Андрей', 12), ('Виктор', 14), ('Максим', 16)])"
            ]
          },
          "metadata": {},
          "execution_count": 32
        }
      ]
    },
    {
      "cell_type": "markdown",
      "source": [
        "**.get()** — полезный метод для получения значений из словаря по ключу."
      ],
      "metadata": {
        "id": "-u_hPxuZa3mM"
      }
    },
    {
      "cell_type": "code",
      "source": [
        "p_ages.get(\"Андрей\")"
      ],
      "metadata": {
        "colab": {
          "base_uri": "https://localhost:8080/"
        },
        "id": "I0j8nX6ia73X",
        "outputId": "dd0670e4-474a-4a13-8e13-5c7b534aa355"
      },
      "execution_count": 33,
      "outputs": [
        {
          "output_type": "execute_result",
          "data": {
            "text/plain": [
              "12"
            ]
          },
          "metadata": {},
          "execution_count": 33
        }
      ]
    },
    {
      "cell_type": "markdown",
      "source": [
        "Метод **.copy()** возвращает копию словаря"
      ],
      "metadata": {
        "id": "V4VR36BobL8U"
      }
    },
    {
      "cell_type": "code",
      "source": [
        "p_ages.copy()"
      ],
      "metadata": {
        "colab": {
          "base_uri": "https://localhost:8080/"
        },
        "id": "j-4g5k_cbPB0",
        "outputId": "e877e2ff-b131-4e5e-b1e5-84f1b6f545d7"
      },
      "execution_count": 34,
      "outputs": [
        {
          "output_type": "execute_result",
          "data": {
            "text/plain": [
              "{'Андрей': 12, 'Виктор': 14, 'Максим': 16}"
            ]
          },
          "metadata": {},
          "execution_count": 34
        }
      ]
    },
    {
      "cell_type": "markdown",
      "source": [
        "Метод **len()** возвращает количество элементов словаря."
      ],
      "metadata": {
        "id": "PeVVV1X1bSsl"
      }
    },
    {
      "cell_type": "code",
      "source": [
        "len(p_ages)"
      ],
      "metadata": {
        "colab": {
          "base_uri": "https://localhost:8080/"
        },
        "id": "sItOCBFtbWut",
        "outputId": "fc5231e5-fb37-4bdf-8075-3fc4e27cbdf8"
      },
      "execution_count": 35,
      "outputs": [
        {
          "output_type": "execute_result",
          "data": {
            "text/plain": [
              "3"
            ]
          },
          "metadata": {},
          "execution_count": 35
        }
      ]
    },
    {
      "cell_type": "markdown",
      "source": [
        "## Задание"
      ],
      "metadata": {
        "id": "z8w7GVbrbYwt"
      }
    },
    {
      "cell_type": "markdown",
      "source": [
        "Выведите значение количества монет из словаря person."
      ],
      "metadata": {
        "id": "o-4nst-ycjtF"
      }
    },
    {
      "cell_type": "code",
      "source": [
        "person = {\"name\": \"Балин Омавель\", \"money\":50, \"city\": \"Балмора\"}\n",
        "\n",
        "# требуемый вывод:\n",
        "# 50"
      ],
      "metadata": {
        "id": "Op5jVXvCcFIQ"
      },
      "execution_count": null,
      "outputs": []
    }
  ]
}