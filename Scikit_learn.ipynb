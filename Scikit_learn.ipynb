{
  "nbformat": 4,
  "nbformat_minor": 0,
  "metadata": {
    "colab": {
      "provenance": [],
      "toc_visible": true,
      "include_colab_link": true
    },
    "kernelspec": {
      "name": "python3",
      "display_name": "Python 3"
    },
    "language_info": {
      "name": "python"
    }
  },
  "cells": [
    {
      "cell_type": "markdown",
      "metadata": {
        "id": "view-in-github",
        "colab_type": "text"
      },
      "source": [
        "<a href=\"https://colab.research.google.com/github/vn322/Cod_future/blob/main/Scikit_learn.ipynb\" target=\"_parent\"><img src=\"https://colab.research.google.com/assets/colab-badge.svg\" alt=\"Open In Colab\"/></a>"
      ]
    },
    {
      "cell_type": "markdown",
      "source": [
        "https://www.tutorialspoint.com/scikit_learn/scikit_learn_tutorial.pdf\n",
        "https://scikit-learn.org/stable/modules/preprocessing.html\n",
        "https://datastart.ru/blog/read/chto-takoe-scikit-learn-gayd-po-populyarnoy-biblioteke-python-dlya-nachinayuschih \n",
        "\n",
        "https://developers.google.com/machine-learning/crash-course/logistic-regression/calculating-a-probability?hl=ru"
      ],
      "metadata": {
        "id": "_SydWzifoW2k"
      }
    },
    {
      "cell_type": "markdown",
      "source": [
        "Scikit-learn - одна из наиболее популярных библиотек Python для Data Science и Machine Learning. Она позволяет выполнять большое количество операций и предоставляет множество алгоритмов. Scikit-learn также предлагает отличную документацию, в том числе и на русском языке описывающую классы, методы и функции библиотеки, а также описание  алгоритмов с необходимыми сведениями из математики. \n",
        "\n",
        "Scikit-Learn имеет в своём составе методы для:\n",
        "\n",
        "- предварительной обработки данных;\n",
        "- уменьшения размерности;\n",
        "- подбора гиперпараметров  модели;\n",
        "- регрессии;\n",
        "- классификации;\n",
        "- кластерного анализа\n",
        "- и многое другое"
      ],
      "metadata": {
        "id": "yPtQG4h1bsrL"
      }
    },
    {
      "cell_type": "code",
      "source": [
        "import pandas as pd\n",
        "import numpy as np\n",
        "import matplotlib.pyplot as plt\n",
        "import seaborn as sns"
      ],
      "metadata": {
        "id": "j_yl9mwBeFcc"
      },
      "execution_count": 108,
      "outputs": []
    },
    {
      "cell_type": "markdown",
      "source": [
        "Для реализации алгоритмов машинного обучения желательно иметь достаточно большой набор данных, иначе теряется сам смысл применения сложных инструментов. Для работы мы используем набор данных [League of Legends Diamond Ranked Games (10 min)](https://www.kaggle.com/datasets/bobbyscience/league-of-legends-diamond-ranked-games-10-min), который содержит  статистику 9879 рейтинговых игр (SOLO QUEUE) с высоким рейтингом ELO  (DIAMOND I - MASTER)за первые 10 минут игры. "
      ],
      "metadata": {
        "id": "4cZELt2JKvGH"
      }
    },
    {
      "cell_type": "code",
      "execution_count": 109,
      "metadata": {
        "colab": {
          "base_uri": "https://localhost:8080/",
          "height": 237
        },
        "id": "eEl0Ds9YbISX",
        "outputId": "edc6201b-43b7-433e-f9fa-66d0cb3b53a9"
      },
      "outputs": [
        {
          "output_type": "execute_result",
          "data": {
            "text/plain": [
              "       gameId  blueWins  blueWardsPlaced  blueWardsDestroyed  blueFirstBlood  \\\n",
              "0  4519157822         0               28                   2               1   \n",
              "1  4523371949         0               12                   1               0   \n",
              "2  4521474530         0               15                   0               0   \n",
              "\n",
              "   blueKills  blueDeaths  blueAssists  blueEliteMonsters  blueDragons  ...  \\\n",
              "0          9           6           11                  0            0  ...   \n",
              "1          5           5            5                  0            0  ...   \n",
              "2          7          11            4                  1            1  ...   \n",
              "\n",
              "   redTowersDestroyed  redTotalGold  redAvgLevel  redTotalExperience  \\\n",
              "0                   0         16567          6.8               17047   \n",
              "1                   1         17620          6.8               17438   \n",
              "2                   0         17285          6.8               17254   \n",
              "\n",
              "   redTotalMinionsKilled  redTotalJungleMinionsKilled  redGoldDiff  \\\n",
              "0                    197                           55         -643   \n",
              "1                    240                           52         2908   \n",
              "2                    203                           28         1172   \n",
              "\n",
              "   redExperienceDiff  redCSPerMin  redGoldPerMin  \n",
              "0                  8         19.7         1656.7  \n",
              "1               1173         24.0         1762.0  \n",
              "2               1033         20.3         1728.5  \n",
              "\n",
              "[3 rows x 40 columns]"
            ],
            "text/html": [
              "\n",
              "  <div id=\"df-6ed49eb0-2a9a-486e-bdba-bcbfa6ea5693\">\n",
              "    <div class=\"colab-df-container\">\n",
              "      <div>\n",
              "<style scoped>\n",
              "    .dataframe tbody tr th:only-of-type {\n",
              "        vertical-align: middle;\n",
              "    }\n",
              "\n",
              "    .dataframe tbody tr th {\n",
              "        vertical-align: top;\n",
              "    }\n",
              "\n",
              "    .dataframe thead th {\n",
              "        text-align: right;\n",
              "    }\n",
              "</style>\n",
              "<table border=\"1\" class=\"dataframe\">\n",
              "  <thead>\n",
              "    <tr style=\"text-align: right;\">\n",
              "      <th></th>\n",
              "      <th>gameId</th>\n",
              "      <th>blueWins</th>\n",
              "      <th>blueWardsPlaced</th>\n",
              "      <th>blueWardsDestroyed</th>\n",
              "      <th>blueFirstBlood</th>\n",
              "      <th>blueKills</th>\n",
              "      <th>blueDeaths</th>\n",
              "      <th>blueAssists</th>\n",
              "      <th>blueEliteMonsters</th>\n",
              "      <th>blueDragons</th>\n",
              "      <th>...</th>\n",
              "      <th>redTowersDestroyed</th>\n",
              "      <th>redTotalGold</th>\n",
              "      <th>redAvgLevel</th>\n",
              "      <th>redTotalExperience</th>\n",
              "      <th>redTotalMinionsKilled</th>\n",
              "      <th>redTotalJungleMinionsKilled</th>\n",
              "      <th>redGoldDiff</th>\n",
              "      <th>redExperienceDiff</th>\n",
              "      <th>redCSPerMin</th>\n",
              "      <th>redGoldPerMin</th>\n",
              "    </tr>\n",
              "  </thead>\n",
              "  <tbody>\n",
              "    <tr>\n",
              "      <th>0</th>\n",
              "      <td>4519157822</td>\n",
              "      <td>0</td>\n",
              "      <td>28</td>\n",
              "      <td>2</td>\n",
              "      <td>1</td>\n",
              "      <td>9</td>\n",
              "      <td>6</td>\n",
              "      <td>11</td>\n",
              "      <td>0</td>\n",
              "      <td>0</td>\n",
              "      <td>...</td>\n",
              "      <td>0</td>\n",
              "      <td>16567</td>\n",
              "      <td>6.8</td>\n",
              "      <td>17047</td>\n",
              "      <td>197</td>\n",
              "      <td>55</td>\n",
              "      <td>-643</td>\n",
              "      <td>8</td>\n",
              "      <td>19.7</td>\n",
              "      <td>1656.7</td>\n",
              "    </tr>\n",
              "    <tr>\n",
              "      <th>1</th>\n",
              "      <td>4523371949</td>\n",
              "      <td>0</td>\n",
              "      <td>12</td>\n",
              "      <td>1</td>\n",
              "      <td>0</td>\n",
              "      <td>5</td>\n",
              "      <td>5</td>\n",
              "      <td>5</td>\n",
              "      <td>0</td>\n",
              "      <td>0</td>\n",
              "      <td>...</td>\n",
              "      <td>1</td>\n",
              "      <td>17620</td>\n",
              "      <td>6.8</td>\n",
              "      <td>17438</td>\n",
              "      <td>240</td>\n",
              "      <td>52</td>\n",
              "      <td>2908</td>\n",
              "      <td>1173</td>\n",
              "      <td>24.0</td>\n",
              "      <td>1762.0</td>\n",
              "    </tr>\n",
              "    <tr>\n",
              "      <th>2</th>\n",
              "      <td>4521474530</td>\n",
              "      <td>0</td>\n",
              "      <td>15</td>\n",
              "      <td>0</td>\n",
              "      <td>0</td>\n",
              "      <td>7</td>\n",
              "      <td>11</td>\n",
              "      <td>4</td>\n",
              "      <td>1</td>\n",
              "      <td>1</td>\n",
              "      <td>...</td>\n",
              "      <td>0</td>\n",
              "      <td>17285</td>\n",
              "      <td>6.8</td>\n",
              "      <td>17254</td>\n",
              "      <td>203</td>\n",
              "      <td>28</td>\n",
              "      <td>1172</td>\n",
              "      <td>1033</td>\n",
              "      <td>20.3</td>\n",
              "      <td>1728.5</td>\n",
              "    </tr>\n",
              "  </tbody>\n",
              "</table>\n",
              "<p>3 rows × 40 columns</p>\n",
              "</div>\n",
              "      <button class=\"colab-df-convert\" onclick=\"convertToInteractive('df-6ed49eb0-2a9a-486e-bdba-bcbfa6ea5693')\"\n",
              "              title=\"Convert this dataframe to an interactive table.\"\n",
              "              style=\"display:none;\">\n",
              "        \n",
              "  <svg xmlns=\"http://www.w3.org/2000/svg\" height=\"24px\"viewBox=\"0 0 24 24\"\n",
              "       width=\"24px\">\n",
              "    <path d=\"M0 0h24v24H0V0z\" fill=\"none\"/>\n",
              "    <path d=\"M18.56 5.44l.94 2.06.94-2.06 2.06-.94-2.06-.94-.94-2.06-.94 2.06-2.06.94zm-11 1L8.5 8.5l.94-2.06 2.06-.94-2.06-.94L8.5 2.5l-.94 2.06-2.06.94zm10 10l.94 2.06.94-2.06 2.06-.94-2.06-.94-.94-2.06-.94 2.06-2.06.94z\"/><path d=\"M17.41 7.96l-1.37-1.37c-.4-.4-.92-.59-1.43-.59-.52 0-1.04.2-1.43.59L10.3 9.45l-7.72 7.72c-.78.78-.78 2.05 0 2.83L4 21.41c.39.39.9.59 1.41.59.51 0 1.02-.2 1.41-.59l7.78-7.78 2.81-2.81c.8-.78.8-2.07 0-2.86zM5.41 20L4 18.59l7.72-7.72 1.47 1.35L5.41 20z\"/>\n",
              "  </svg>\n",
              "      </button>\n",
              "      \n",
              "  <style>\n",
              "    .colab-df-container {\n",
              "      display:flex;\n",
              "      flex-wrap:wrap;\n",
              "      gap: 12px;\n",
              "    }\n",
              "\n",
              "    .colab-df-convert {\n",
              "      background-color: #E8F0FE;\n",
              "      border: none;\n",
              "      border-radius: 50%;\n",
              "      cursor: pointer;\n",
              "      display: none;\n",
              "      fill: #1967D2;\n",
              "      height: 32px;\n",
              "      padding: 0 0 0 0;\n",
              "      width: 32px;\n",
              "    }\n",
              "\n",
              "    .colab-df-convert:hover {\n",
              "      background-color: #E2EBFA;\n",
              "      box-shadow: 0px 1px 2px rgba(60, 64, 67, 0.3), 0px 1px 3px 1px rgba(60, 64, 67, 0.15);\n",
              "      fill: #174EA6;\n",
              "    }\n",
              "\n",
              "    [theme=dark] .colab-df-convert {\n",
              "      background-color: #3B4455;\n",
              "      fill: #D2E3FC;\n",
              "    }\n",
              "\n",
              "    [theme=dark] .colab-df-convert:hover {\n",
              "      background-color: #434B5C;\n",
              "      box-shadow: 0px 1px 3px 1px rgba(0, 0, 0, 0.15);\n",
              "      filter: drop-shadow(0px 1px 2px rgba(0, 0, 0, 0.3));\n",
              "      fill: #FFFFFF;\n",
              "    }\n",
              "  </style>\n",
              "\n",
              "      <script>\n",
              "        const buttonEl =\n",
              "          document.querySelector('#df-6ed49eb0-2a9a-486e-bdba-bcbfa6ea5693 button.colab-df-convert');\n",
              "        buttonEl.style.display =\n",
              "          google.colab.kernel.accessAllowed ? 'block' : 'none';\n",
              "\n",
              "        async function convertToInteractive(key) {\n",
              "          const element = document.querySelector('#df-6ed49eb0-2a9a-486e-bdba-bcbfa6ea5693');\n",
              "          const dataTable =\n",
              "            await google.colab.kernel.invokeFunction('convertToInteractive',\n",
              "                                                     [key], {});\n",
              "          if (!dataTable) return;\n",
              "\n",
              "          const docLinkHtml = 'Like what you see? Visit the ' +\n",
              "            '<a target=\"_blank\" href=https://colab.research.google.com/notebooks/data_table.ipynb>data table notebook</a>'\n",
              "            + ' to learn more about interactive tables.';\n",
              "          element.innerHTML = '';\n",
              "          dataTable['output_type'] = 'display_data';\n",
              "          await google.colab.output.renderOutput(dataTable, element);\n",
              "          const docLink = document.createElement('div');\n",
              "          docLink.innerHTML = docLinkHtml;\n",
              "          element.appendChild(docLink);\n",
              "        }\n",
              "      </script>\n",
              "    </div>\n",
              "  </div>\n",
              "  "
            ]
          },
          "metadata": {},
          "execution_count": 109
        }
      ],
      "source": [
        "lol = pd.read_csv('https://raw.githubusercontent.com/vn322/Sport-University/main/esport/high_diamond_ranked_10min.csv')\n",
        "lol.head(3)"
      ]
    },
    {
      "cell_type": "code",
      "source": [
        "lol.columns"
      ],
      "metadata": {
        "colab": {
          "base_uri": "https://localhost:8080/"
        },
        "id": "NyWqpto8eXRQ",
        "outputId": "5eefc555-74b1-4441-c700-48d1320a03ed"
      },
      "execution_count": 81,
      "outputs": [
        {
          "output_type": "execute_result",
          "data": {
            "text/plain": [
              "Index(['gameId', 'blueWins', 'blueWardsPlaced', 'blueWardsDestroyed',\n",
              "       'blueFirstBlood', 'blueKills', 'blueDeaths', 'blueAssists',\n",
              "       'blueEliteMonsters', 'blueDragons', 'blueHeralds',\n",
              "       'blueTowersDestroyed', 'blueTotalGold', 'blueAvgLevel',\n",
              "       'blueTotalExperience', 'blueTotalMinionsKilled',\n",
              "       'blueTotalJungleMinionsKilled', 'blueGoldDiff', 'blueExperienceDiff',\n",
              "       'blueCSPerMin', 'blueGoldPerMin', 'redWardsPlaced', 'redWardsDestroyed',\n",
              "       'redFirstBlood', 'redKills', 'redDeaths', 'redAssists',\n",
              "       'redEliteMonsters', 'redDragons', 'redHeralds', 'redTowersDestroyed',\n",
              "       'redTotalGold', 'redAvgLevel', 'redTotalExperience',\n",
              "       'redTotalMinionsKilled', 'redTotalJungleMinionsKilled', 'redGoldDiff',\n",
              "       'redExperienceDiff', 'redCSPerMin', 'redGoldPerMin'],\n",
              "      dtype='object')"
            ]
          },
          "metadata": {},
          "execution_count": 81
        }
      ]
    },
    {
      "cell_type": "markdown",
      "source": [
        "# Разделение данных"
      ],
      "metadata": {
        "id": "XB2aOs1OYMgK"
      }
    },
    {
      "cell_type": "markdown",
      "source": [
        "Разделение набора данных в Scikit-learn решено функцией `sklearn.model_selection.train_test_split`. Сначала нужно определить целевую (зависимую) переменную, у нас это будет индикатор `blueWins` принимающий значение \"1\" в случае победы команды синих, и \"0\" - в случае поражения.\n",
        "\n",
        "После определения целевой переменной необходимо разделить данные. Ведь нельзя оценить прогностическую эффективность модели на тех же данных, которые  использовались для её обучения. "
      ],
      "metadata": {
        "id": "WABi5wrYWum9"
      }
    },
    {
      "cell_type": "code",
      "source": [
        "X=lol[['blueKills','blueDeaths','blueWardsPlaced', 'blueWardsDestroyed',\n",
        "       'blueTowersDestroyed', 'blueTotalGold', 'blueAssists','blueTotalMinionsKilled']]\n",
        "y=lol['blueWins']"
      ],
      "metadata": {
        "id": "F3Xhny59e19Y"
      },
      "execution_count": 110,
      "outputs": []
    },
    {
      "cell_type": "markdown",
      "source": [
        "Чтобы объективно проверить точность  модели на данных, которые модель \"не видела\",  набор данных делят на две неравные части — тренировочный и тестовый набор . Тренировочный набор применяется для обучения модели, поэтому его делают большим, чтобы модель имела достаточно возможностей для обучения, а тестовый меньшим, достаточным для проверки. \n",
        "\n",
        "В следущем примере данные будут разделены в соотношении 70/30, т. е. 70% данных будут использоваться как\n",
        " данные для тренировки (обучения) модели, а 30% будут использоваться в качестве тестовых данных."
      ],
      "metadata": {
        "id": "4njsV6-lfhmz"
      }
    },
    {
      "cell_type": "code",
      "source": [
        "from sklearn.model_selection import train_test_split\n",
        "X_train, X_test, y_train, y_test = train_test_split(X, y, test_size=0.3,\n",
        "random_state=42)\n",
        "print(X_train.shape)\n",
        "print(X_test.shape)\n",
        "print(y_train.shape)\n",
        "print(y_test.shape)"
      ],
      "metadata": {
        "colab": {
          "base_uri": "https://localhost:8080/"
        },
        "id": "2u_DSVLNeNY4",
        "outputId": "9f3178d3-f5d3-44d0-e79f-0f3466bd315e"
      },
      "execution_count": 111,
      "outputs": [
        {
          "output_type": "stream",
          "name": "stdout",
          "text": [
            "(6915, 8)\n",
            "(2964, 8)\n",
            "(6915,)\n",
            "(2964,)\n"
          ]
        }
      ]
    },
    {
      "cell_type": "markdown",
      "source": [
        "Проверим корректность  разделения данных по количеству и составу."
      ],
      "metadata": {
        "id": "3S2jgOtSV70z"
      }
    },
    {
      "cell_type": "code",
      "source": [
        "X.iloc[[2]]"
      ],
      "metadata": {
        "id": "pH4jKJ35gFhQ",
        "outputId": "02cc0cdc-f96e-4032-922c-e457ade1dba5",
        "colab": {
          "base_uri": "https://localhost:8080/",
          "height": 81
        }
      },
      "execution_count": 112,
      "outputs": [
        {
          "output_type": "execute_result",
          "data": {
            "text/plain": [
              "   blueKills  blueDeaths  blueWardsPlaced  blueWardsDestroyed  \\\n",
              "2          7          11               15                   0   \n",
              "\n",
              "   blueTowersDestroyed  blueTotalGold  blueAssists  blueTotalMinionsKilled  \n",
              "2                    0          16113            4                     186  "
            ],
            "text/html": [
              "\n",
              "  <div id=\"df-719db9d6-ef15-4c47-a175-a21a88eda072\">\n",
              "    <div class=\"colab-df-container\">\n",
              "      <div>\n",
              "<style scoped>\n",
              "    .dataframe tbody tr th:only-of-type {\n",
              "        vertical-align: middle;\n",
              "    }\n",
              "\n",
              "    .dataframe tbody tr th {\n",
              "        vertical-align: top;\n",
              "    }\n",
              "\n",
              "    .dataframe thead th {\n",
              "        text-align: right;\n",
              "    }\n",
              "</style>\n",
              "<table border=\"1\" class=\"dataframe\">\n",
              "  <thead>\n",
              "    <tr style=\"text-align: right;\">\n",
              "      <th></th>\n",
              "      <th>blueKills</th>\n",
              "      <th>blueDeaths</th>\n",
              "      <th>blueWardsPlaced</th>\n",
              "      <th>blueWardsDestroyed</th>\n",
              "      <th>blueTowersDestroyed</th>\n",
              "      <th>blueTotalGold</th>\n",
              "      <th>blueAssists</th>\n",
              "      <th>blueTotalMinionsKilled</th>\n",
              "    </tr>\n",
              "  </thead>\n",
              "  <tbody>\n",
              "    <tr>\n",
              "      <th>2</th>\n",
              "      <td>7</td>\n",
              "      <td>11</td>\n",
              "      <td>15</td>\n",
              "      <td>0</td>\n",
              "      <td>0</td>\n",
              "      <td>16113</td>\n",
              "      <td>4</td>\n",
              "      <td>186</td>\n",
              "    </tr>\n",
              "  </tbody>\n",
              "</table>\n",
              "</div>\n",
              "      <button class=\"colab-df-convert\" onclick=\"convertToInteractive('df-719db9d6-ef15-4c47-a175-a21a88eda072')\"\n",
              "              title=\"Convert this dataframe to an interactive table.\"\n",
              "              style=\"display:none;\">\n",
              "        \n",
              "  <svg xmlns=\"http://www.w3.org/2000/svg\" height=\"24px\"viewBox=\"0 0 24 24\"\n",
              "       width=\"24px\">\n",
              "    <path d=\"M0 0h24v24H0V0z\" fill=\"none\"/>\n",
              "    <path d=\"M18.56 5.44l.94 2.06.94-2.06 2.06-.94-2.06-.94-.94-2.06-.94 2.06-2.06.94zm-11 1L8.5 8.5l.94-2.06 2.06-.94-2.06-.94L8.5 2.5l-.94 2.06-2.06.94zm10 10l.94 2.06.94-2.06 2.06-.94-2.06-.94-.94-2.06-.94 2.06-2.06.94z\"/><path d=\"M17.41 7.96l-1.37-1.37c-.4-.4-.92-.59-1.43-.59-.52 0-1.04.2-1.43.59L10.3 9.45l-7.72 7.72c-.78.78-.78 2.05 0 2.83L4 21.41c.39.39.9.59 1.41.59.51 0 1.02-.2 1.41-.59l7.78-7.78 2.81-2.81c.8-.78.8-2.07 0-2.86zM5.41 20L4 18.59l7.72-7.72 1.47 1.35L5.41 20z\"/>\n",
              "  </svg>\n",
              "      </button>\n",
              "      \n",
              "  <style>\n",
              "    .colab-df-container {\n",
              "      display:flex;\n",
              "      flex-wrap:wrap;\n",
              "      gap: 12px;\n",
              "    }\n",
              "\n",
              "    .colab-df-convert {\n",
              "      background-color: #E8F0FE;\n",
              "      border: none;\n",
              "      border-radius: 50%;\n",
              "      cursor: pointer;\n",
              "      display: none;\n",
              "      fill: #1967D2;\n",
              "      height: 32px;\n",
              "      padding: 0 0 0 0;\n",
              "      width: 32px;\n",
              "    }\n",
              "\n",
              "    .colab-df-convert:hover {\n",
              "      background-color: #E2EBFA;\n",
              "      box-shadow: 0px 1px 2px rgba(60, 64, 67, 0.3), 0px 1px 3px 1px rgba(60, 64, 67, 0.15);\n",
              "      fill: #174EA6;\n",
              "    }\n",
              "\n",
              "    [theme=dark] .colab-df-convert {\n",
              "      background-color: #3B4455;\n",
              "      fill: #D2E3FC;\n",
              "    }\n",
              "\n",
              "    [theme=dark] .colab-df-convert:hover {\n",
              "      background-color: #434B5C;\n",
              "      box-shadow: 0px 1px 3px 1px rgba(0, 0, 0, 0.15);\n",
              "      filter: drop-shadow(0px 1px 2px rgba(0, 0, 0, 0.3));\n",
              "      fill: #FFFFFF;\n",
              "    }\n",
              "  </style>\n",
              "\n",
              "      <script>\n",
              "        const buttonEl =\n",
              "          document.querySelector('#df-719db9d6-ef15-4c47-a175-a21a88eda072 button.colab-df-convert');\n",
              "        buttonEl.style.display =\n",
              "          google.colab.kernel.accessAllowed ? 'block' : 'none';\n",
              "\n",
              "        async function convertToInteractive(key) {\n",
              "          const element = document.querySelector('#df-719db9d6-ef15-4c47-a175-a21a88eda072');\n",
              "          const dataTable =\n",
              "            await google.colab.kernel.invokeFunction('convertToInteractive',\n",
              "                                                     [key], {});\n",
              "          if (!dataTable) return;\n",
              "\n",
              "          const docLinkHtml = 'Like what you see? Visit the ' +\n",
              "            '<a target=\"_blank\" href=https://colab.research.google.com/notebooks/data_table.ipynb>data table notebook</a>'\n",
              "            + ' to learn more about interactive tables.';\n",
              "          element.innerHTML = '';\n",
              "          dataTable['output_type'] = 'display_data';\n",
              "          await google.colab.output.renderOutput(dataTable, element);\n",
              "          const docLink = document.createElement('div');\n",
              "          docLink.innerHTML = docLinkHtml;\n",
              "          element.appendChild(docLink);\n",
              "        }\n",
              "      </script>\n",
              "    </div>\n",
              "  </div>\n",
              "  "
            ]
          },
          "metadata": {},
          "execution_count": 112
        }
      ]
    },
    {
      "cell_type": "code",
      "source": [
        "y.iloc[[2]]"
      ],
      "metadata": {
        "id": "L9mzbbXmgyuv",
        "outputId": "f3665ef4-63ea-4b99-9b88-c5571914b8d4",
        "colab": {
          "base_uri": "https://localhost:8080/"
        }
      },
      "execution_count": 113,
      "outputs": [
        {
          "output_type": "execute_result",
          "data": {
            "text/plain": [
              "2    0\n",
              "Name: blueWins, dtype: int64"
            ]
          },
          "metadata": {},
          "execution_count": 113
        }
      ]
    },
    {
      "cell_type": "markdown",
      "source": [
        "# Алгоритмы машинного обучения Scikit-Learn"
      ],
      "metadata": {
        "id": "GXNH7WI-eRDZ"
      }
    },
    {
      "cell_type": "markdown",
      "source": [
        "Более подробно применение каждого алгоритма мы разберём в следующем модуле, а сейчас сосредоточимся на рассмотрении возможностей именно библиотеки Scikit-Learn."
      ],
      "metadata": {
        "id": "Pw7gsxRQeWDk"
      }
    },
    {
      "cell_type": "markdown",
      "source": [
        "У Scikit-learn единый способ использования всех методов.\n",
        "Для моделей (estimator object) доступны следующие методы.\n",
        "\n",
        "- `model.fit()` – настройка на данные (обучение)\n",
        "\n",
        "- `model.fit(X, y)` – для обучения с учителем (supervised learning)\n",
        "\n",
        "- `model.fit(X)` – для обучение без учителя (unsupervised learning)"
      ],
      "metadata": {
        "id": "G65Ie4qRikXY"
      }
    },
    {
      "cell_type": "markdown",
      "source": [
        "Для обучения с учителем:\n",
        "\n",
        "`model.predict(X_test)` – предсказать значения целевой переменной\n",
        "\n",
        "`model.predict_proba()` – выдать «степень уверенности» в ответе\n",
        "(вероятность) – для некоторых моделей\n",
        "\n",
        "`model.decision_function()` – решающая функция – для некоторых\n",
        "моделей\n",
        "\n",
        "`model.score()` – в большинстве моделей встроены методы оценки их\n",
        "качества работы\n",
        "\n",
        "`model.transform()` – для отбора признаков (feature selection)\n",
        "«сжимает» обучающую матрицу. Для регрессионных моделей и\n",
        "классификаторов (linear, RF и т.п.) выделяет наиболее\n",
        "информативные признаки"
      ],
      "metadata": {
        "id": "jgFilmEbjI0l"
      }
    },
    {
      "cell_type": "markdown",
      "source": [
        "# Логистическая регрессия\n",
        "\n",
        "Начнём с классификации при помощи логистической регрессии. Обучим модель и предложим ей сделать прогноз на строке с индексом 2. В нашем наборе данных для данной строки целевая переменная равна 0, что значит поражение и прогноз так же равен 0. Однако, если мы подставим строку с индексом 1, то увидим, что модель даст ошибочный прогноз, поэтому необходимо понять с какой точностью делается прогноз и насколько он может быть надёжным."
      ],
      "metadata": {
        "id": "tJS07JR7X35k"
      }
    },
    {
      "cell_type": "code",
      "source": [
        "from sklearn.linear_model import LogisticRegression\n",
        "classifier = LogisticRegression()\n",
        "classifier.fit(X_train, y_train)\n",
        "classifier.predict(X.iloc[[2]])"
      ],
      "metadata": {
        "id": "huO-Ydbrjq_5",
        "outputId": "e79f3a8e-feb0-4ea9-8aa1-83b24d722ad9",
        "colab": {
          "base_uri": "https://localhost:8080/"
        }
      },
      "execution_count": 127,
      "outputs": [
        {
          "output_type": "stream",
          "name": "stderr",
          "text": [
            "/usr/local/lib/python3.8/dist-packages/sklearn/linear_model/_logistic.py:814: ConvergenceWarning: lbfgs failed to converge (status=1):\n",
            "STOP: TOTAL NO. of ITERATIONS REACHED LIMIT.\n",
            "\n",
            "Increase the number of iterations (max_iter) or scale the data as shown in:\n",
            "    https://scikit-learn.org/stable/modules/preprocessing.html\n",
            "Please also refer to the documentation for alternative solver options:\n",
            "    https://scikit-learn.org/stable/modules/linear_model.html#logistic-regression\n",
            "  n_iter_i = _check_optimize_result(\n"
          ]
        },
        {
          "output_type": "execute_result",
          "data": {
            "text/plain": [
              "array([0])"
            ]
          },
          "metadata": {},
          "execution_count": 127
        }
      ]
    },
    {
      "cell_type": "markdown",
      "source": [
        "Для оценки будем использовать штатный метод `score(X, y[, sample_weight])` который возвращает Accuracy - отношение точных прогнозов к общему их количеству или точнее\n",
        "\n",
        "$$\\text{Accuracy} = \\frac{TP+TN}{TP+TN+FP+FN}$$\n",
        "\n",
        "где \n",
        "\n",
        "TP - истинные положительные результаты (True Positive) прогноз совпал с реальностью\n",
        "\n",
        "TN - истинные отрицательные результаты, (True Negative) , прогноз совпал с реальностью\n",
        "\n",
        "FP - ложные положительные результаты (False Positive) ошибка 1-го рода, модель прогнозировала положительный результат, а на самом деле он отрицательный\n",
        "\n",
        "FN - ложные отрицательные результаты (False Negative) ошибка 2-го рода, модель прогнозировала отрицательный результат, но на самом деле он положительный"
      ],
      "metadata": {
        "id": "zO3LcEctqpHC"
      }
    },
    {
      "cell_type": "markdown",
      "source": [
        "И в данных условиях для данной модели получим точность 0.7, что безусловно неплохой результат, но место для ошибки остаётся и желательно точнее определить сколько и каких ошибок ожидается при пользовании моделью."
      ],
      "metadata": {
        "id": "yTmSGys_ZLGc"
      }
    },
    {
      "cell_type": "code",
      "source": [
        "classifier.score(X_test, y_test)"
      ],
      "metadata": {
        "id": "sULNGGiPj4o-",
        "outputId": "e8f64484-8aff-4fba-bc91-3780f64e809f",
        "colab": {
          "base_uri": "https://localhost:8080/"
        }
      },
      "execution_count": 87,
      "outputs": [
        {
          "output_type": "execute_result",
          "data": {
            "text/plain": [
              "0.7058029689608637"
            ]
          },
          "metadata": {},
          "execution_count": 87
        }
      ]
    },
    {
      "cell_type": "markdown",
      "source": [
        "С целью оценки прогноза используется матрица ошибок (confusion matrix) – таблица с 4 различными комбинациями прогнозируемых и фактических значений. Прогнозируемые значения описываются как положительные и отрицательные, а фактические – как истинные и ложные. Вообще матрица ошибок используется для оценки точности моделей в задачах классификации. Но многие другие задачи можно рассматривать как частный случай этой проблемы, поэтому confusion matrix актуальна и для измерения точности прогноза. Важно, что матрица ошибок позволяет оценить эффективность прогноза не только в качественном, но и в количественном выражении"
      ],
      "metadata": {
        "id": "ng62r24k1bv0"
      }
    },
    {
      "cell_type": "code",
      "source": [
        "from sklearn.metrics import confusion_matrix\n",
        "y_pred = classifier.predict(X_test)\n",
        "confusion_matrix = confusion_matrix(y_test, y_pred)\n",
        "print(confusion_matrix)"
      ],
      "metadata": {
        "id": "JXiXZRwqnCY_",
        "outputId": "64e6c267-cd49-4be5-ad52-4831f39d942e",
        "colab": {
          "base_uri": "https://localhost:8080/"
        }
      },
      "execution_count": 129,
      "outputs": [
        {
          "output_type": "stream",
          "name": "stdout",
          "text": [
            "[[1035  445]\n",
            " [ 427 1057]]\n"
          ]
        }
      ]
    },
    {
      "cell_type": "markdown",
      "source": [
        "Не всегда числа хорошо воспринимаются нашим сознанием  и поэтому, при возможности, желательно визуализировать результаты исследования."
      ],
      "metadata": {
        "id": "zgkpVn-vZ6jo"
      }
    },
    {
      "cell_type": "code",
      "source": [
        "from sklearn.metrics import plot_confusion_matrix\n",
        "plot_confusion_matrix(classifier, X_test, y_test, cmap=plt.cm.Blues)\n",
        "plt.show()"
      ],
      "metadata": {
        "id": "IfmesO2lzXjD",
        "outputId": "c9f83e1c-5a44-4e1a-c3cf-04539d026f10",
        "colab": {
          "base_uri": "https://localhost:8080/",
          "height": 334
        }
      },
      "execution_count": 89,
      "outputs": [
        {
          "output_type": "stream",
          "name": "stderr",
          "text": [
            "/usr/local/lib/python3.8/dist-packages/sklearn/utils/deprecation.py:87: FutureWarning: Function plot_confusion_matrix is deprecated; Function `plot_confusion_matrix` is deprecated in 1.0 and will be removed in 1.2. Use one of the class methods: ConfusionMatrixDisplay.from_predictions or ConfusionMatrixDisplay.from_estimator.\n",
            "  warnings.warn(msg, category=FutureWarning)\n"
          ]
        },
        {
          "output_type": "display_data",
          "data": {
            "text/plain": [
              "<Figure size 432x288 with 2 Axes>"
            ],
            "image/png": "[encoded data removed]"
          },
          "metadata": {
            "needs_background": "light"
          }
        }
      ]
    },
    {
      "cell_type": "markdown",
      "source": [
        "ROC — Receiver Operating Characteristic (рабочая характеристика приёмника). Впервые она была создана для использования радиолокационного обнаружения сигналов во время Второй мировой войны. США использовали ROC для повышения точности обнаружения японских самолетов с помощью радара. \n",
        "\n",
        "Матрица ошибок содержит только абсолютные числа. Однако, используя их, мы можем получить множество других метрик, основанных на процентных соотношениях. \n",
        "\n",
        "Так вводят: True Positive Rate (TPR) и False Positive Rate (FPR)\n",
        "\n",
        "True Positive Rate (TPR) показывает, какой процент среди всех positive верно предсказан моделью.\n",
        "$$TPR = TP / (TP + FN)$$\n",
        "\n",
        "False Positive Rate (FPR): какой процент среди всех negative неверно предсказан моделью.\n",
        "$$FPR = FP / (FP + TN)$$\n",
        "\n",
        "AUC или area under curve — это просто площадь под кривой ROC. А кривая ROC — это просто отношение TPR к FPR."
      ],
      "metadata": {
        "id": "-s2ZQMC7gYjd"
      }
    },
    {
      "cell_type": "code",
      "source": [
        "from sklearn.metrics import roc_auc_score\n",
        "from sklearn.metrics import roc_curve\n",
        "logit_roc_auc = roc_auc_score(y_test, classifier.predict(X_test))\n",
        "fpr, tpr, thresholds = roc_curve(y_test, classifier.predict_proba(X_test)[:,1])\n",
        "plt.figure()\n",
        "plt.plot(fpr, tpr, label='Logistic Regression (area = %0.2f)' % logit_roc_auc)\n",
        "plt.plot([0, 1], [0, 1],'r--')\n",
        "plt.xlim([0.0, 1.0])\n",
        "plt.ylim([0.0, 1.05])\n",
        "plt.xlabel('False Positive Rate')\n",
        "plt.ylabel('True Positive Rate')\n",
        "plt.title('Receiver operating characteristic')\n",
        "plt.legend(loc=\"lower right\")\n",
        "plt.savefig('Log_ROC')\n",
        "plt.show()"
      ],
      "metadata": {
        "id": "F7ttkf34oH0o",
        "outputId": "bef1f4b0-6247-4b7b-9d93-063e0bcd2f6f",
        "colab": {
          "base_uri": "https://localhost:8080/",
          "height": 295
        }
      },
      "execution_count": 90,
      "outputs": [
        {
          "output_type": "display_data",
          "data": {
            "text/plain": [
              "<Figure size 432x288 with 1 Axes>"
            ],
            "image/png": "[encoded data removed]"
          },
          "metadata": {
            "needs_background": "light"
          }
        }
      ]
    },
    {
      "cell_type": "markdown",
      "source": [
        "При использовании моделей классификации в машинном обучении есть несколько общих показателя, которые применяются для оценки качества модели:\n",
        "\n",
        "1. **precision** - процент правильных положительных прогнозов по отношению к общему количеству положительных прогнозов.\n",
        "\n",
        "2. **recall** - процент правильных положительных прогнозов по отношению к общему количеству фактических положительных результатов.\n",
        "\n",
        "\n",
        "$${\\displaystyle {\\begin{aligned}{\\text{Precision}}&={\\frac {TP}{TP+FN}}\\\\{\\text{Recall}}&={\\frac {TP}{TP+FN}}\\,\\end{aligned}}}$$\n",
        "3. **f1-score** - средневзвешенное гармоническое значение точности и полноты. Чем ближе к 1, тем лучше модель.\n",
        "\n",
        "$$\n",
        "{\\displaystyle F_1=2\\cdot {\\frac {\\mathrm {Precision} \\cdot \\mathrm {Recall} }{\\mathrm {Precision} +\\mathrm {Recall} }}}\n",
        "$$\n",
        "Используя эти три показателя, мы можем понять, насколько хорошо данная модель классификации способна предсказывать результаты для некоторой переменной отклика ."
      ],
      "metadata": {
        "id": "Pzg4LyGHix7X"
      }
    },
    {
      "cell_type": "code",
      "source": [
        "from sklearn.metrics import classification_report\n",
        "print(classification_report(y_test, y_pred))"
      ],
      "metadata": {
        "id": "0WQv6CEqn7d3",
        "outputId": "9ae3306c-2a23-46ee-f966-7863068cefc4",
        "colab": {
          "base_uri": "https://localhost:8080/"
        }
      },
      "execution_count": 91,
      "outputs": [
        {
          "output_type": "stream",
          "name": "stdout",
          "text": [
            "              precision    recall  f1-score   support\n",
            "\n",
            "           0       0.71      0.70      0.70      1480\n",
            "           1       0.70      0.71      0.71      1484\n",
            "\n",
            "    accuracy                           0.71      2964\n",
            "   macro avg       0.71      0.71      0.71      2964\n",
            "weighted avg       0.71      0.71      0.71      2964\n",
            "\n"
          ]
        }
      ]
    },
    {
      "cell_type": "markdown",
      "source": [
        "# Ансамблевые методы"
      ],
      "metadata": {
        "id": "xHwLbJCA2e1S"
      }
    },
    {
      "cell_type": "markdown",
      "source": [
        "Цель ансамблевых методов — объединить прогнозы нескольких базовых оценок, построенных с заданным алгоритмом обучения, чтобы улучшить надежность по сравнению с одной оценкой.\n",
        "\n",
        "Обычно выделяют два семейства ансамблевых методов:\n",
        "\n",
        "В методах усреднения главный принцип состоит в том, чтобы  усреднить прогнозы . В среднем, комбинированная оценка обычно лучше, чем любая из оценок с одной моделью, потому что ее дисперсия имеет тенденцию к уменьшению. \n",
        "\n",
        "Напротив, в методах с использованием бустинга оценки строятся последовательно, и каждый пытается уменьшить смещение комбинированной оценки. \n"
      ],
      "metadata": {
        "id": "nHuPDJtUiHVH"
      }
    },
    {
      "cell_type": "markdown",
      "source": [
        "## Решающее дерево"
      ],
      "metadata": {
        "id": "azrUblSP3UOV"
      }
    },
    {
      "cell_type": "code",
      "source": [
        "from sklearn.tree import DecisionTreeClassifier\n",
        "tree = DecisionTreeClassifier(max_depth=10)\n",
        "tree.fit(X_train, y_train)\n",
        "print (tree)\n",
        "print (tree.score(X_test, y_test))\n",
        "print (tree.predict(X.iloc[[1]]))"
      ],
      "metadata": {
        "id": "dcL8WMbPkgWO",
        "outputId": "38958dff-0166-4e23-e0b2-eae15c8eef4f",
        "colab": {
          "base_uri": "https://localhost:8080/"
        }
      },
      "execution_count": 92,
      "outputs": [
        {
          "output_type": "stream",
          "name": "stdout",
          "text": [
            "DecisionTreeClassifier(max_depth=10)\n",
            "0.6737516869095816\n",
            "[0]\n"
          ]
        }
      ]
    },
    {
      "cell_type": "markdown",
      "source": [
        "## Случайный  лес"
      ],
      "metadata": {
        "id": "AgOKbPle3X50"
      }
    },
    {
      "cell_type": "code",
      "source": [
        "from sklearn.ensemble import RandomForestRegressor\n",
        "rf = RandomForestRegressor(random_state=42).fit(X_train, y_train)\n",
        "rf.score(X_train, y_train)\n"
      ],
      "metadata": {
        "id": "9ph7puc7aQaF",
        "outputId": "10b035c3-da34-4527-8404-cbc201887512",
        "colab": {
          "base_uri": "https://localhost:8080/"
        }
      },
      "execution_count": 93,
      "outputs": [
        {
          "output_type": "execute_result",
          "data": {
            "text/plain": [
              "0.887699234844666"
            ]
          },
          "metadata": {},
          "execution_count": 93
        }
      ]
    },
    {
      "cell_type": "code",
      "source": [
        "print (rf.score(X_test, y_test))\n",
        "print (rf.predict(X.iloc[[2]]))\n"
      ],
      "metadata": {
        "outputId": "c1cae611-cc5e-43c6-b632-223afb9e5020",
        "colab": {
          "base_uri": "https://localhost:8080/"
        },
        "id": "PrJBmxKfaWnC"
      },
      "execution_count": 94,
      "outputs": [
        {
          "output_type": "stream",
          "name": "stdout",
          "text": [
            "0.20871799209586972\n",
            "[0.12]\n"
          ]
        }
      ]
    },
    {
      "cell_type": "code",
      "source": [
        "from sklearn.ensemble import RandomForestClassifier\n",
        "rf = RandomForestClassifier(random_state=42, n_estimators=100)\n",
        "rf.fit(X_train, y_train)\n"
      ],
      "metadata": {
        "id": "Z5NnKLFAiD59",
        "outputId": "52b3e408-eb9d-4eb3-9bbc-e37425f35a80",
        "colab": {
          "base_uri": "https://localhost:8080/"
        }
      },
      "execution_count": 95,
      "outputs": [
        {
          "output_type": "execute_result",
          "data": {
            "text/plain": [
              "RandomForestClassifier(random_state=42)"
            ]
          },
          "metadata": {},
          "execution_count": 95
        }
      ]
    },
    {
      "cell_type": "code",
      "source": [
        "print (rf.score(X_test, y_test))\n",
        "print (rf.predict(X.iloc[[1]]))"
      ],
      "metadata": {
        "id": "rIyjkPt9g-w9",
        "outputId": "23de7e2f-bb4e-4469-e2c6-55051c4124b2",
        "colab": {
          "base_uri": "https://localhost:8080/"
        }
      },
      "execution_count": 96,
      "outputs": [
        {
          "output_type": "stream",
          "name": "stdout",
          "text": [
            "0.7068151147098516\n",
            "[0]\n"
          ]
        }
      ]
    },
    {
      "cell_type": "code",
      "source": [
        "from sklearn.metrics import classification_report\n",
        "y_pred = rf.predict(X_test)\n",
        "print(classification_report(y_test, y_pred))\n"
      ],
      "metadata": {
        "id": "p19wsFa5aacd",
        "outputId": "22156c20-f68f-4464-aa4d-232d3d4fd802",
        "colab": {
          "base_uri": "https://localhost:8080/"
        }
      },
      "execution_count": 97,
      "outputs": [
        {
          "output_type": "stream",
          "name": "stdout",
          "text": [
            "              precision    recall  f1-score   support\n",
            "\n",
            "           0       0.70      0.72      0.71      1480\n",
            "           1       0.71      0.69      0.70      1484\n",
            "\n",
            "    accuracy                           0.71      2964\n",
            "   macro avg       0.71      0.71      0.71      2964\n",
            "weighted avg       0.71      0.71      0.71      2964\n",
            "\n"
          ]
        }
      ]
    },
    {
      "cell_type": "markdown",
      "source": [
        "## Gradient boosting"
      ],
      "metadata": {
        "id": "faZHDM_B0nOA"
      }
    },
    {
      "cell_type": "markdown",
      "source": [
        "Gradient boosting — это метод машинного обучения, используемый, в частности, в задачах регрессии и классификации. Он создает модель прогнозирования в виде ансамбля более слабых моделей, которые обычно представляют собой деревья решений.  Обычно он превосходит случайный лес. Модель деревьев с градиентным усилением строится поэтапно, как и в других методах повышения, но она обобщает другие методы, позволяя оптимизировать произвольную дифференцируемую функцию потерь."
      ],
      "metadata": {
        "id": "K59XuT2k0N28"
      }
    },
    {
      "cell_type": "code",
      "source": [
        "from sklearn.ensemble import GradientBoostingClassifier\n",
        "grb = GradientBoostingClassifier(n_estimators=100, learning_rate=1.0, max_depth=1, random_state=42).fit(X_train, y_train)\n",
        "grb.score(X_train, y_train)"
      ],
      "metadata": {
        "id": "Z1vWwiMsZ_b1",
        "outputId": "de016c13-ddbf-481e-cdf8-02f1ad4897f2",
        "colab": {
          "base_uri": "https://localhost:8080/"
        }
      },
      "execution_count": 118,
      "outputs": [
        {
          "output_type": "execute_result",
          "data": {
            "text/plain": [
              "0.7297180043383948"
            ]
          },
          "metadata": {},
          "execution_count": 118
        }
      ]
    },
    {
      "cell_type": "code",
      "source": [
        "grb.score(X_test, y_test)\n"
      ],
      "metadata": {
        "colab": {
          "base_uri": "https://localhost:8080/"
        },
        "id": "CKFtaH1xaIlb",
        "outputId": "9cf5da9b-ca86-4b2d-8529-b8c3d4b173b7"
      },
      "execution_count": 119,
      "outputs": [
        {
          "output_type": "execute_result",
          "data": {
            "text/plain": [
              "0.7128879892037787"
            ]
          },
          "metadata": {},
          "execution_count": 119
        }
      ]
    },
    {
      "cell_type": "code",
      "source": [
        "grb.predict(X.iloc[[1]])"
      ],
      "metadata": {
        "colab": {
          "base_uri": "https://localhost:8080/"
        },
        "id": "w0n9v5vnfyiU",
        "outputId": "0b1005f8-09e0-4ead-da16-048774d9555c"
      },
      "execution_count": 120,
      "outputs": [
        {
          "output_type": "execute_result",
          "data": {
            "text/plain": [
              "array([0])"
            ]
          },
          "metadata": {},
          "execution_count": 120
        }
      ]
    },
    {
      "cell_type": "code",
      "source": [
        "from sklearn.metrics import classification_report\n",
        "y_pred = grb.predict(X_test)\n",
        "print(classification_report(y_test, y_pred))"
      ],
      "metadata": {
        "id": "qe9lMa2k14gs",
        "outputId": "2459eab7-1eb4-419a-9d89-86456ee0ca4b",
        "colab": {
          "base_uri": "https://localhost:8080/"
        }
      },
      "execution_count": 121,
      "outputs": [
        {
          "output_type": "stream",
          "name": "stdout",
          "text": [
            "              precision    recall  f1-score   support\n",
            "\n",
            "           0       0.71      0.71      0.71      1480\n",
            "           1       0.71      0.71      0.71      1484\n",
            "\n",
            "    accuracy                           0.71      2964\n",
            "   macro avg       0.71      0.71      0.71      2964\n",
            "weighted avg       0.71      0.71      0.71      2964\n",
            "\n"
          ]
        }
      ]
    },
    {
      "cell_type": "code",
      "source": [
        "from sklearn.neighbors import KNeighborsClassifier\n",
        "knn = KNeighborsClassifier(n_neighbors=5)\n",
        "knn.fit(X_train, y_train)\n",
        "print (knn)\n",
        "print (knn.score(X_test, y_test))"
      ],
      "metadata": {
        "id": "7ZwK87p_lewf",
        "outputId": "c7e93cfc-0297-4146-cb24-573c2e15547c",
        "colab": {
          "base_uri": "https://localhost:8080/"
        }
      },
      "execution_count": 101,
      "outputs": [
        {
          "output_type": "stream",
          "name": "stdout",
          "text": [
            "KNeighborsClassifier()\n",
            "0.6497975708502024\n"
          ]
        }
      ]
    },
    {
      "cell_type": "markdown",
      "source": [
        "# Метод опорных векторов"
      ],
      "metadata": {
        "id": "Zs7A1yb25Cml"
      }
    },
    {
      "cell_type": "markdown",
      "source": [
        "Метод опорных векторов (support vector machine) — набор схожих алгоритмов обучения с учителем, использующихся для задач классификации и регрессионного анализа.  Особым свойством метода опорных векторов является непрерывное уменьшение эмпирической ошибки классификации и увеличение зазора, поэтому метод также известен как метод классификатора с максимальным зазором."
      ],
      "metadata": {
        "id": "aXTdg0CH4FWC"
      }
    },
    {
      "cell_type": "code",
      "source": [
        "from sklearn import svm\n",
        "clf = svm.SVC(kernel='linear', C=1).fit(X_train, y_train)\n",
        "clf.score(X_test, y_test)"
      ],
      "metadata": {
        "id": "fKsiUIm6alTF",
        "outputId": "56c8c09b-a70c-49b0-a051-a7feb09af909",
        "colab": {
          "base_uri": "https://localhost:8080/"
        }
      },
      "execution_count": 124,
      "outputs": [
        {
          "output_type": "execute_result",
          "data": {
            "text/plain": [
              "0.7186234817813765"
            ]
          },
          "metadata": {},
          "execution_count": 124
        }
      ]
    },
    {
      "cell_type": "code",
      "source": [
        "from sklearn.metrics import classification_report\n",
        "y_pred = clf.predict(X_test)\n",
        "print(classification_report(y_test, y_pred))"
      ],
      "metadata": {
        "outputId": "8879fc6c-c1e7-436e-ee43-1ffc5ca582b5",
        "colab": {
          "base_uri": "https://localhost:8080/"
        },
        "id": "so1ioOqJbDaz"
      },
      "execution_count": 125,
      "outputs": [
        {
          "output_type": "stream",
          "name": "stdout",
          "text": [
            "              precision    recall  f1-score   support\n",
            "\n",
            "           0       0.74      0.67      0.70      1480\n",
            "           1       0.70      0.77      0.73      1484\n",
            "\n",
            "    accuracy                           0.72      2964\n",
            "   macro avg       0.72      0.72      0.72      2964\n",
            "weighted avg       0.72      0.72      0.72      2964\n",
            "\n"
          ]
        }
      ]
    },
    {
      "cell_type": "code",
      "source": [
        " from sklearn.metrics import r2_score\n",
        " print('R2 score: {:.2f}'.format(r2_score(y_test, y_pred)))"
      ],
      "metadata": {
        "id": "ePilaobghJIX",
        "outputId": "5281ab7c-fdd2-4ca6-ce82-ea283c15df6c",
        "colab": {
          "base_uri": "https://localhost:8080/"
        }
      },
      "execution_count": 126,
      "outputs": [
        {
          "output_type": "stream",
          "name": "stdout",
          "text": [
            "R2 score: -0.13\n"
          ]
        }
      ]
    },
    {
      "cell_type": "code",
      "source": [
        "from sklearn import preprocessing\n",
        "X_train, X_test, y_train, y_test = train_test_split(X, y, test_size=0.4, random_state=42)\n",
        "scaler = preprocessing.StandardScaler().fit(X_train)\n",
        "X_train_transformed = scaler.transform(X_train)\n",
        "clf = svm.SVC(C=1).fit(X_train_transformed, y_train)\n",
        "X_test_transformed = scaler.transform(X_test)\n",
        "clf.score(X_test_transformed, y_test)"
      ],
      "metadata": {
        "id": "FGpxi_BHak6L",
        "outputId": "e96a101a-e1a3-4157-a843-9bfd6499cf5e",
        "colab": {
          "base_uri": "https://localhost:8080/"
        }
      },
      "execution_count": 105,
      "outputs": [
        {
          "output_type": "execute_result",
          "data": {
            "text/plain": [
              "0.7105263157894737"
            ]
          },
          "metadata": {},
          "execution_count": 105
        }
      ]
    },
    {
      "cell_type": "code",
      "source": [
        "from sklearn.metrics import classification_report\n",
        "y_pred = clf.predict(X_test)\n",
        "print(classification_report(y_test, y_pred))"
      ],
      "metadata": {
        "id": "MGFFr5Uyak3s",
        "outputId": "f966819d-9788-4e1c-979b-1a28b4de3458",
        "colab": {
          "base_uri": "https://localhost:8080/"
        }
      },
      "execution_count": 106,
      "outputs": [
        {
          "output_type": "stream",
          "name": "stderr",
          "text": [
            "/usr/local/lib/python3.8/dist-packages/sklearn/base.py:443: UserWarning: X has feature names, but SVC was fitted without feature names\n",
            "  warnings.warn(\n"
          ]
        },
        {
          "output_type": "stream",
          "name": "stdout",
          "text": [
            "              precision    recall  f1-score   support\n",
            "\n",
            "           0       0.00      0.00      0.00      1965\n",
            "           1       0.50      1.00      0.67      1987\n",
            "\n",
            "    accuracy                           0.50      3952\n",
            "   macro avg       0.25      0.50      0.33      3952\n",
            "weighted avg       0.25      0.50      0.34      3952\n",
            "\n"
          ]
        },
        {
          "output_type": "stream",
          "name": "stderr",
          "text": [
            "/usr/local/lib/python3.8/dist-packages/sklearn/metrics/_classification.py:1318: UndefinedMetricWarning: Precision and F-score are ill-defined and being set to 0.0 in labels with no predicted samples. Use `zero_division` parameter to control this behavior.\n",
            "  _warn_prf(average, modifier, msg_start, len(result))\n",
            "/usr/local/lib/python3.8/dist-packages/sklearn/metrics/_classification.py:1318: UndefinedMetricWarning: Precision and F-score are ill-defined and being set to 0.0 in labels with no predicted samples. Use `zero_division` parameter to control this behavior.\n",
            "  _warn_prf(average, modifier, msg_start, len(result))\n",
            "/usr/local/lib/python3.8/dist-packages/sklearn/metrics/_classification.py:1318: UndefinedMetricWarning: Precision and F-score are ill-defined and being set to 0.0 in labels with no predicted samples. Use `zero_division` parameter to control this behavior.\n",
            "  _warn_prf(average, modifier, msg_start, len(result))\n"
          ]
        }
      ]
    },
    {
      "cell_type": "code",
      "source": [],
      "metadata": {
        "id": "kINQFqXcfqdE"
      },
      "execution_count": 106,
      "outputs": []
    },
    {
      "cell_type": "markdown",
      "source": [],
      "metadata": {
        "id": "tYCx8xmJ95VR"
      }
    },
    {
      "cell_type": "markdown",
      "source": [],
      "metadata": {
        "id": "uvGMg8et95JR"
      }
    },
    {
      "cell_type": "code",
      "source": [
        "from sklearn.ensemble import RandomForestClassifier\n",
        "from sklearn.pipeline import Pipeline\n",
        "from sklearn.preprocessing import StandardScaler\n",
        "\n",
        "\n",
        "\n",
        "# Chain together scaling the variables with the model\n",
        "pipe = Pipeline([('scaler', StandardScaler()), ('rf', RandomForestClassifier())])\n",
        "pipe.fit(X_train, y_train)\n",
        "\n",
        "pipe.score(X_test, y_test)"
      ],
      "metadata": {
        "id": "S9gn1h0sfqaH",
        "outputId": "074325fa-011f-4a7e-a383-397839076bf2",
        "colab": {
          "base_uri": "https://localhost:8080/"
        }
      },
      "execution_count": 136,
      "outputs": [
        {
          "output_type": "execute_result",
          "data": {
            "text/plain": [
              "0.708502024291498"
            ]
          },
          "metadata": {},
          "execution_count": 136
        }
      ]
    },
    {
      "cell_type": "code",
      "source": [
        "from sklearn.metrics import classification_report\n",
        "y_pred = clf.predict(X_test)\n",
        "print(classification_report(y_test, y_pred))"
      ],
      "metadata": {
        "id": "T8eEcrdi9oc0",
        "outputId": "8abc6d7c-e9ee-4901-a0f2-3d72000c9acc",
        "colab": {
          "base_uri": "https://localhost:8080/"
        }
      },
      "execution_count": 137,
      "outputs": [
        {
          "output_type": "stream",
          "name": "stdout",
          "text": [
            "              precision    recall  f1-score   support\n",
            "\n",
            "           0       0.74      0.67      0.70      1480\n",
            "           1       0.70      0.77      0.73      1484\n",
            "\n",
            "    accuracy                           0.72      2964\n",
            "   macro avg       0.72      0.72      0.72      2964\n",
            "weighted avg       0.72      0.72      0.72      2964\n",
            "\n"
          ]
        }
      ]
    },
    {
      "cell_type": "code",
      "source": [],
      "metadata": {
        "id": "l6wHCTsQak0j"
      },
      "execution_count": 106,
      "outputs": []
    },
    {
      "cell_type": "code",
      "source": [
        "#displaying the mean and the standard deviation of the input data\n",
        "print(\"Mean =\", data.mean(axis=0))\n",
        "print(\"Stddeviation = \", data.std(axis=0))\n",
        "#Removing the mean and the standard deviation of the input data\n",
        "data_scaled = preprocessing.scale(data)\n",
        "print(\"Mean_removed =\", data_scaled.mean(axis=0))\n",
        "print(\"Stddeviation_removed =\", data_scaled.std(axis=0))"
      ],
      "metadata": {
        "colab": {
          "base_uri": "https://localhost:8080/",
          "height": 235
        },
        "id": "lpbTHAzajNBX",
        "outputId": "933a2fac-17b2-4389-960d-480557d3f947"
      },
      "execution_count": 107,
      "outputs": [
        {
          "output_type": "error",
          "ename": "NameError",
          "evalue": "ignored",
          "traceback": [
            "\u001b[0;31m---------------------------------------------------------------------------\u001b[0m",
            "\u001b[0;31mNameError\u001b[0m                                 Traceback (most recent call last)",
            "\u001b[0;32m<ipython-input-107-c35db5d2f59b>\u001b[0m in \u001b[0;36m<module>\u001b[0;34m\u001b[0m\n\u001b[1;32m      1\u001b[0m \u001b[0;31m#displaying the mean and the standard deviation of the input data\u001b[0m\u001b[0;34m\u001b[0m\u001b[0;34m\u001b[0m\u001b[0;34m\u001b[0m\u001b[0m\n\u001b[0;32m----> 2\u001b[0;31m \u001b[0mprint\u001b[0m\u001b[0;34m(\u001b[0m\u001b[0;34m\"Mean =\"\u001b[0m\u001b[0;34m,\u001b[0m \u001b[0mdata\u001b[0m\u001b[0;34m.\u001b[0m\u001b[0mmean\u001b[0m\u001b[0;34m(\u001b[0m\u001b[0maxis\u001b[0m\u001b[0;34m=\u001b[0m\u001b[0;36m0\u001b[0m\u001b[0;34m)\u001b[0m\u001b[0;34m)\u001b[0m\u001b[0;34m\u001b[0m\u001b[0;34m\u001b[0m\u001b[0m\n\u001b[0m\u001b[1;32m      3\u001b[0m \u001b[0mprint\u001b[0m\u001b[0;34m(\u001b[0m\u001b[0;34m\"Stddeviation = \"\u001b[0m\u001b[0;34m,\u001b[0m \u001b[0mdata\u001b[0m\u001b[0;34m.\u001b[0m\u001b[0mstd\u001b[0m\u001b[0;34m(\u001b[0m\u001b[0maxis\u001b[0m\u001b[0;34m=\u001b[0m\u001b[0;36m0\u001b[0m\u001b[0;34m)\u001b[0m\u001b[0;34m)\u001b[0m\u001b[0;34m\u001b[0m\u001b[0;34m\u001b[0m\u001b[0m\n\u001b[1;32m      4\u001b[0m \u001b[0;31m#Removing the mean and the standard deviation of the input data\u001b[0m\u001b[0;34m\u001b[0m\u001b[0;34m\u001b[0m\u001b[0;34m\u001b[0m\u001b[0m\n\u001b[1;32m      5\u001b[0m \u001b[0mdata_scaled\u001b[0m \u001b[0;34m=\u001b[0m \u001b[0mpreprocessing\u001b[0m\u001b[0;34m.\u001b[0m\u001b[0mscale\u001b[0m\u001b[0;34m(\u001b[0m\u001b[0mdata\u001b[0m\u001b[0;34m)\u001b[0m\u001b[0;34m\u001b[0m\u001b[0;34m\u001b[0m\u001b[0m\n",
            "\u001b[0;31mNameError\u001b[0m: name 'data' is not defined"
          ]
        }
      ]
    },
    {
      "cell_type": "markdown",
      "source": [
        "# Preprocessing data\n",
        "\n",
        "Стандартизация наборов данных является общим требованием для многих средств оценки машинного обучения, реализованных в scikit-learn; они могут вести себя плохо, если отдельные функции более или менее не похожи на стандартные данные с нормальным распределением: гауссовские с нулевым средним и единичной дисперсией.\n",
        "\n",
        "На практике мы часто игнорируем форму распределения и просто преобразуем данные, чтобы центрировать их, удаляя среднее значение каждого признака, а затем масштабируем его, деля непостоянные признаки на их стандартное отклонение.\n",
        "\n",
        "Например, многие элементы, используемые в целевой функции алгоритма обучения (такие как ядро ​​RBF машин опорных векторов или регуляризаторы l1 и l2 линейных моделей), могут предполагать, что все признаки сосредоточены вокруг нуля или имеют дисперсию в одном и том же порядке. . Если функция имеет дисперсию, которая на порядки больше, чем другие, она может доминировать над целевой функцией и лишить оценщика возможности правильно учиться на других функциях, как и ожидалось.\n",
        "\n",
        "Модуль предварительной обработки предоставляет служебный класс StandardScaler, который представляет собой быстрый и простой способ выполнить следующую операцию над массивом данных."
      ],
      "metadata": {
        "id": "o7WroTM4jk41"
      }
    },
    {
      "cell_type": "code",
      "source": [
        "from sklearn import preprocessing\n",
        "import numpy as np\n",
        "#X_train = np.array([[ 3., -1.,  2.],[ 2.,  5.,  0.],[ 0.,  1., -1.]])\n",
        "scaler = preprocessing.StandardScaler().fit(X_train)\n",
        "scaler\n",
        "\n",
        "\n",
        "scaler.mean_\n",
        "\n",
        "\n",
        "scaler.scale_\n",
        "\n",
        "\n",
        "X_scaled = scaler.transform(X_train)\n",
        "X_scaled\n"
      ],
      "metadata": {
        "id": "pvTuGQbckXXv"
      },
      "execution_count": null,
      "outputs": []
    },
    {
      "cell_type": "markdown",
      "source": [
        "Масштабированные данные имеют нулевое среднее значение и дисперсию в единицах измерения"
      ],
      "metadata": {
        "id": "fRT1SxT_lJUF"
      }
    },
    {
      "cell_type": "code",
      "source": [
        "X_scaled.mean(axis=0),X_scaled.std(axis=0)\n",
        "\n",
        "\n"
      ],
      "metadata": {
        "id": "GOzOW_hRliBd"
      },
      "execution_count": null,
      "outputs": []
    },
    {
      "cell_type": "code",
      "source": [
        "\n",
        "from sklearn.linear_model import LogisticRegression\n",
        "from sklearn.model_selection import train_test_split\n",
        "from sklearn.pipeline import make_pipeline\n",
        "from sklearn.preprocessing import StandardScaler\n",
        "\n",
        "\n",
        "pipe = make_pipeline(StandardScaler(), LogisticRegression())\n",
        "pipe.fit(X_train, y_train)  # apply scaling on training data\n",
        "\n",
        "\n",
        "\n",
        "pipe.score(X_test, y_test)  # apply scaling on testing data, without leaking training data.\n"
      ],
      "metadata": {
        "id": "Nn19M-QNnF78"
      },
      "execution_count": null,
      "outputs": []
    },
    {
      "cell_type": "markdown",
      "source": [
        "## Binarisation\n",
        "\n",
        "\n",
        "\n",
        "Этот метод предварительной обработки используется, когда нам нужно преобразовать наши числовые значения в логические значения."
      ],
      "metadata": {
        "id": "XV50PkWIhsff"
      }
    },
    {
      "cell_type": "code",
      "source": [
        "import numpy as np\n",
        "from sklearn import preprocessing\n",
        "data = np.array([[2.1, -1.9, 5.5],\n",
        "                      [-1.5, 2.4, 3.5],\n",
        "                      [0.5, -7.9, 5.6],\n",
        "                      [5.9, 2.3, -5.8]])\n",
        "data_binarized = preprocessing.Binarizer(threshold=0.5).transform(data)\n",
        "print(\"\\nBinarized data:\\n\", data_binarized)"
      ],
      "metadata": {
        "id": "W8kecgIsh4dx"
      },
      "execution_count": null,
      "outputs": []
    },
    {
      "cell_type": "markdown",
      "source": [
        "В приведенном выше примере мы использовали пороговое значение = 0,5, и поэтому все значения выше 0,5 будут преобразованы в 1, а все значения ниже 0,5 будут преобразованы в 0."
      ],
      "metadata": {
        "id": "4pclIAaliqMO"
      }
    },
    {
      "cell_type": "markdown",
      "source": [
        "## Mean Removal\n",
        "\n",
        "Этот метод используется для исключения среднего из вектора признаков, чтобы каждый признак был сосредоточен на нуле."
      ],
      "metadata": {
        "id": "F4Fh_hkqi8LW"
      }
    },
    {
      "cell_type": "markdown",
      "source": [
        "В приведенном ниже примере мы собираемся использовать классификатор KNN (K ближайших соседей)."
      ],
      "metadata": {
        "id": "Nitg0ADUhQ3v"
      }
    },
    {
      "cell_type": "code",
      "source": [
        "from sklearn.neighbors import KNeighborsClassifier\n",
        "from sklearn import metrics\n",
        "classifier_knn = KNeighborsClassifier(n_neighbors=3)\n",
        "\n",
        "classifier_knn.fit(X_train, y_train)\n",
        "y_pred = classifier_knn.predict(X_test)\n",
        "# Finding accuracy by comparing actual response values(y_test)with predicted\n",
        "\n",
        "print(\"Accuracy:\", metrics.accuracy_score(y_test, y_pred))"
      ],
      "metadata": {
        "id": "bDSFWQL9f_UP"
      },
      "execution_count": null,
      "outputs": []
    },
    {
      "cell_type": "markdown",
      "source": [
        "# Classification Algorithms\n",
        "\n",
        "some of the most popular classifications algorithms:\n",
        "\n",
        "k-Nearest Neighbors\n",
        "Logistic regression\n",
        "Decision tree\n",
        "Random forest\n",
        "Support Vector Classification (SVC)"
      ],
      "metadata": {
        "id": "FP8sv-Mz0mnp"
      }
    },
    {
      "cell_type": "code",
      "source": [],
      "metadata": {
        "id": "45HqavHh0lpj"
      },
      "execution_count": null,
      "outputs": []
    }
  ]
}